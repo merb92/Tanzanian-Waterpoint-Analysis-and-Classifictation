{
  "nbformat": 4,
  "nbformat_minor": 0,
  "metadata": {
    "kernelspec": {
      "display_name": "learn-env",
      "language": "python",
      "name": "learn-env"
    },
    "language_info": {
      "codemirror_mode": {
        "name": "ipython",
        "version": 3
      },
      "file_extension": ".py",
      "mimetype": "text/x-python",
      "name": "python",
      "nbconvert_exporter": "python",
      "pygments_lexer": "ipython3",
      "version": "3.6.9"
    },
    "toc": {
      "base_numbering": 1,
      "nav_menu": {},
      "number_sections": true,
      "sideBar": true,
      "skip_h1_title": false,
      "title_cell": "Table of Contents",
      "title_sidebar": "Contents",
      "toc_cell": false,
      "toc_position": {},
      "toc_section_display": true,
      "toc_window_display": true
    },
    "varInspector": {
      "cols": {
        "lenName": 16,
        "lenType": 16,
        "lenVar": 40
      },
      "kernels_config": {
        "python": {
          "delete_cmd_postfix": "",
          "delete_cmd_prefix": "del ",
          "library": "var_list.py",
          "varRefreshCmd": "print(var_dic_list())"
        },
        "r": {
          "delete_cmd_postfix": ") ",
          "delete_cmd_prefix": "rm(",
          "library": "var_list.r",
          "varRefreshCmd": "cat(var_dic_list()) "
        }
      },
      "types_to_exclude": [
        "module",
        "function",
        "builtin_function_or_method",
        "instance",
        "_Feature"
      ],
      "window_display": false
    },
    "deepnote_notebook_id": "5edd2c8e-52e8-416f-8465-0c003573232e",
    "deepnote_execution_queue": [],
    "colab": {
      "name": "rand_forest-cv8.ipynb",
      "provenance": []
    }
  },
  "cells": [
    {
      "cell_type": "markdown",
      "metadata": {
        "cell_id": "aaeac2ac-a37e-4294-b411-7cdd6b3a6b8f",
        "id": "v8RKOV7d-cyd",
        "colab_type": "text"
      },
      "source": [
        "# Random Forest with SMOTE and Grid Search CV\n",
        "\n",
        "Purpose\n",
        "* Set max_features to auto\n",
        "* Do Not Use High Cardinality max_features\n",
        "* Scorer set to Macro Average Recall\n",
        "* Use SMOTENC\n",
        "* Preset hyperparameters - 5000 estimators"
      ]
    },
    {
      "cell_type": "markdown",
      "metadata": {
        "cell_id": "da6bae25-5b0e-46e0-969d-aacf91c56456",
        "id": "6Hutl7BE-cyf",
        "colab_type": "text"
      },
      "source": [
        "# Imports and Constants"
      ]
    },
    {
      "cell_type": "code",
      "metadata": {
        "ExecuteTime": {
          "end_time": "2020-07-05T21:15:34.779288Z",
          "start_time": "2020-07-05T21:15:24.364120Z"
        },
        "cell_id": "248942d7-bf4b-4647-a797-9b3f0067eff3",
        "id": "IRLQ40RH-cyg",
        "colab_type": "code",
        "colab": {
          "base_uri": "https://localhost:8080/",
          "height": 139
        },
        "outputId": "8cc89c71-8baa-4b85-fb6f-65038f01962d"
      },
      "source": [
        "from sklearn.linear_model import LogisticRegression\n",
        "from sklearn.model_selection import train_test_split\n",
        "import pandas as pd\n",
        "import numpy as np\n",
        "from sklearn.preprocessing import StandardScaler\n",
        "from sklearn.compose import ColumnTransformer\n",
        "from sklearn.preprocessing import OneHotEncoder\n",
        "from sklearn.preprocessing import LabelEncoder\n",
        "from sklearn.metrics import confusion_matrix\n",
        "from sklearn.metrics import classification_report\n",
        "from sklearn.metrics import plot_confusion_matrix\n",
        "import matplotlib.pyplot as plt\n",
        "%matplotlib inline\n",
        "import seaborn as sns\n",
        "from sklearn.metrics import roc_curve, auc\n",
        "from sklearn.metrics import roc_auc_score\n",
        "from sklearn.preprocessing import LabelBinarizer\n",
        "from sklearn.multiclass import OneVsRestClassifier\n",
        "import joblib\n",
        "from imblearn.pipeline import Pipeline\n",
        "from imblearn.over_sampling import SMOTE, SMOTENC\n",
        "from sklearn.ensemble import RandomForestClassifier\n",
        "from sklearn.model_selection import RandomizedSearchCV\n",
        "from sklearn.metrics import make_scorer, recall_score, accuracy_score, precision_score\n"
      ],
      "execution_count": 1,
      "outputs": [
        {
          "output_type": "stream",
          "text": [
            "/usr/local/lib/python3.6/dist-packages/statsmodels/tools/_testing.py:19: FutureWarning: pandas.util.testing is deprecated. Use the functions in the public API at pandas.testing instead.\n",
            "  import pandas.util.testing as tm\n",
            "/usr/local/lib/python3.6/dist-packages/sklearn/externals/six.py:31: FutureWarning: The module is deprecated in version 0.21 and will be removed in version 0.23 since we've dropped support for Python 2.7. Please rely on the official version of six (https://pypi.org/project/six/).\n",
            "  \"(https://pypi.org/project/six/).\", FutureWarning)\n",
            "/usr/local/lib/python3.6/dist-packages/sklearn/utils/deprecation.py:144: FutureWarning: The sklearn.neighbors.base module is  deprecated in version 0.22 and will be removed in version 0.24. The corresponding classes / functions should instead be imported from sklearn.neighbors. Anything that cannot be imported from sklearn.neighbors is now part of the private API.\n",
            "  warnings.warn(message, FutureWarning)\n"
          ],
          "name": "stderr"
        }
      ]
    },
    {
      "cell_type": "code",
      "metadata": {
        "ExecuteTime": {
          "end_time": "2020-07-05T21:15:34.785936Z",
          "start_time": "2020-07-05T21:15:34.781917Z"
        },
        "cell_id": "3ce73eb8-0fd8-48ab-87a3-e02cffba0b6c",
        "id": "-jXHk01o-cyn",
        "colab_type": "code",
        "colab": {}
      },
      "source": [
        "RANDOM_SEED = 8\n",
        "DATA_PATH = './drive/My Drive/Colab Notebooks/data/'\n",
        "MODEL_PATH = './drive/My Drive/Colab Notebooks//models/'\n",
        "SAVE_FILE = True\n",
        "MODEL_FILE_NAME = 'rand_forest_cv8.sav'"
      ],
      "execution_count": 2,
      "outputs": []
    },
    {
      "cell_type": "code",
      "metadata": {
        "id": "iwejjI_G_dRF",
        "colab_type": "code",
        "colab": {
          "base_uri": "https://localhost:8080/",
          "height": 34
        },
        "outputId": "4ee9f713-c82a-4fa5-889c-a4ef88276c53"
      },
      "source": [
        "ls"
      ],
      "execution_count": 3,
      "outputs": [
        {
          "output_type": "stream",
          "text": [
            "\u001b[0m\u001b[01;34mdrive\u001b[0m/  \u001b[01;34msample_data\u001b[0m/\n"
          ],
          "name": "stdout"
        }
      ]
    },
    {
      "cell_type": "code",
      "metadata": {
        "id": "OTHpjyZIiqR2",
        "colab_type": "code",
        "colab": {
          "base_uri": "https://localhost:8080/",
          "height": 54
        },
        "outputId": "3ff13452-9d3a-4b36-d0cd-1c078b977a53"
      },
      "source": [
        "from google.colab import drive\n",
        "drive.mount('/content/drive/')"
      ],
      "execution_count": 4,
      "outputs": [
        {
          "output_type": "stream",
          "text": [
            "Drive already mounted at /content/drive/; to attempt to forcibly remount, call drive.mount(\"/content/drive/\", force_remount=True).\n"
          ],
          "name": "stdout"
        }
      ]
    },
    {
      "cell_type": "markdown",
      "metadata": {
        "cell_id": "503e2ef9-fa3d-43eb-8503-2a191b4c57aa",
        "id": "mwtqUBGV-cyr",
        "colab_type": "text"
      },
      "source": [
        "## Read in Data"
      ]
    },
    {
      "cell_type": "code",
      "metadata": {
        "ExecuteTime": {
          "end_time": "2020-07-05T21:15:35.292984Z",
          "start_time": "2020-07-05T21:15:34.788999Z"
        },
        "cell_id": "d2c362a8-d7df-41c7-992a-e5b023c5f368",
        "id": "JehpTb0Z-cys",
        "colab_type": "code",
        "colab": {
          "base_uri": "https://localhost:8080/",
          "height": 309
        },
        "outputId": "74dc5730-c5ed-4335-b0db-65bc078e5e2d"
      },
      "source": [
        "df = pd.read_csv(DATA_PATH+'clean_water_well_data.csv')\n",
        "df.head()"
      ],
      "execution_count": 5,
      "outputs": [
        {
          "output_type": "execute_result",
          "data": {
            "text/html": [
              "<div>\n",
              "<style scoped>\n",
              "    .dataframe tbody tr th:only-of-type {\n",
              "        vertical-align: middle;\n",
              "    }\n",
              "\n",
              "    .dataframe tbody tr th {\n",
              "        vertical-align: top;\n",
              "    }\n",
              "\n",
              "    .dataframe thead th {\n",
              "        text-align: right;\n",
              "    }\n",
              "</style>\n",
              "<table border=\"1\" class=\"dataframe\">\n",
              "  <thead>\n",
              "    <tr style=\"text-align: right;\">\n",
              "      <th></th>\n",
              "      <th>date_recorded</th>\n",
              "      <th>funder</th>\n",
              "      <th>gps_height</th>\n",
              "      <th>installer</th>\n",
              "      <th>longitude</th>\n",
              "      <th>latitude</th>\n",
              "      <th>num_private</th>\n",
              "      <th>subvillage</th>\n",
              "      <th>region</th>\n",
              "      <th>lga</th>\n",
              "      <th>ward</th>\n",
              "      <th>population</th>\n",
              "      <th>public_meeting</th>\n",
              "      <th>permit</th>\n",
              "      <th>construction_year</th>\n",
              "      <th>extraction_type</th>\n",
              "      <th>management</th>\n",
              "      <th>payment</th>\n",
              "      <th>water_quality</th>\n",
              "      <th>quantity</th>\n",
              "      <th>source</th>\n",
              "      <th>waterpoint_type</th>\n",
              "      <th>status_group</th>\n",
              "    </tr>\n",
              "  </thead>\n",
              "  <tbody>\n",
              "    <tr>\n",
              "      <th>0</th>\n",
              "      <td>2011-03-14</td>\n",
              "      <td>roman</td>\n",
              "      <td>1390.000000</td>\n",
              "      <td>roman</td>\n",
              "      <td>34.938093</td>\n",
              "      <td>-9.856322</td>\n",
              "      <td>0</td>\n",
              "      <td>Mnyusi B</td>\n",
              "      <td>Iringa</td>\n",
              "      <td>Ludewa</td>\n",
              "      <td>Mundindi</td>\n",
              "      <td>109.0</td>\n",
              "      <td>True</td>\n",
              "      <td>False</td>\n",
              "      <td>1999</td>\n",
              "      <td>gravity</td>\n",
              "      <td>vwc</td>\n",
              "      <td>pay annually</td>\n",
              "      <td>soft</td>\n",
              "      <td>enough</td>\n",
              "      <td>spring</td>\n",
              "      <td>communal standpipe</td>\n",
              "      <td>functional</td>\n",
              "    </tr>\n",
              "    <tr>\n",
              "      <th>1</th>\n",
              "      <td>2013-03-06</td>\n",
              "      <td>grumeti</td>\n",
              "      <td>1399.000000</td>\n",
              "      <td>grumeti</td>\n",
              "      <td>34.698766</td>\n",
              "      <td>-2.147466</td>\n",
              "      <td>0</td>\n",
              "      <td>Nyamara</td>\n",
              "      <td>Mara</td>\n",
              "      <td>Serengeti</td>\n",
              "      <td>Natta</td>\n",
              "      <td>280.0</td>\n",
              "      <td>True</td>\n",
              "      <td>True</td>\n",
              "      <td>2010</td>\n",
              "      <td>gravity</td>\n",
              "      <td>wug</td>\n",
              "      <td>never pay</td>\n",
              "      <td>soft</td>\n",
              "      <td>insufficient</td>\n",
              "      <td>rainwater harvesting</td>\n",
              "      <td>communal standpipe</td>\n",
              "      <td>functional</td>\n",
              "    </tr>\n",
              "    <tr>\n",
              "      <th>2</th>\n",
              "      <td>2013-02-25</td>\n",
              "      <td>lottery club</td>\n",
              "      <td>686.000000</td>\n",
              "      <td>world vision</td>\n",
              "      <td>37.460664</td>\n",
              "      <td>-3.821329</td>\n",
              "      <td>0</td>\n",
              "      <td>Majengo</td>\n",
              "      <td>Manyara</td>\n",
              "      <td>Simanjiro</td>\n",
              "      <td>Ngorika</td>\n",
              "      <td>250.0</td>\n",
              "      <td>True</td>\n",
              "      <td>True</td>\n",
              "      <td>2009</td>\n",
              "      <td>gravity</td>\n",
              "      <td>vwc</td>\n",
              "      <td>pay per bucket</td>\n",
              "      <td>soft</td>\n",
              "      <td>enough</td>\n",
              "      <td>dam</td>\n",
              "      <td>communal standpipe multiple</td>\n",
              "      <td>functional</td>\n",
              "    </tr>\n",
              "    <tr>\n",
              "      <th>3</th>\n",
              "      <td>2013-01-28</td>\n",
              "      <td>unicef</td>\n",
              "      <td>263.000000</td>\n",
              "      <td>unicef</td>\n",
              "      <td>38.486161</td>\n",
              "      <td>-11.155298</td>\n",
              "      <td>0</td>\n",
              "      <td>Mahakamani</td>\n",
              "      <td>Mtwara</td>\n",
              "      <td>Nanyumbu</td>\n",
              "      <td>Nanyumbu</td>\n",
              "      <td>58.0</td>\n",
              "      <td>True</td>\n",
              "      <td>True</td>\n",
              "      <td>1986</td>\n",
              "      <td>submersible</td>\n",
              "      <td>vwc</td>\n",
              "      <td>never pay</td>\n",
              "      <td>soft</td>\n",
              "      <td>dry</td>\n",
              "      <td>machine dbh</td>\n",
              "      <td>communal standpipe multiple</td>\n",
              "      <td>non functional</td>\n",
              "    </tr>\n",
              "    <tr>\n",
              "      <th>4</th>\n",
              "      <td>2011-07-13</td>\n",
              "      <td>action in a</td>\n",
              "      <td>1018.821805</td>\n",
              "      <td>artisan</td>\n",
              "      <td>31.130847</td>\n",
              "      <td>-1.825359</td>\n",
              "      <td>0</td>\n",
              "      <td>Kyanyamisa</td>\n",
              "      <td>Kagera</td>\n",
              "      <td>Karagwe</td>\n",
              "      <td>Nyakasimbi</td>\n",
              "      <td>150.0</td>\n",
              "      <td>True</td>\n",
              "      <td>True</td>\n",
              "      <td>2000</td>\n",
              "      <td>gravity</td>\n",
              "      <td>other</td>\n",
              "      <td>never pay</td>\n",
              "      <td>soft</td>\n",
              "      <td>seasonal</td>\n",
              "      <td>rainwater harvesting</td>\n",
              "      <td>communal standpipe</td>\n",
              "      <td>functional</td>\n",
              "    </tr>\n",
              "  </tbody>\n",
              "</table>\n",
              "</div>"
            ],
            "text/plain": [
              "  date_recorded        funder  ...              waterpoint_type    status_group\n",
              "0    2011-03-14         roman  ...           communal standpipe      functional\n",
              "1    2013-03-06       grumeti  ...           communal standpipe      functional\n",
              "2    2013-02-25  lottery club  ...  communal standpipe multiple      functional\n",
              "3    2013-01-28        unicef  ...  communal standpipe multiple  non functional\n",
              "4    2011-07-13   action in a  ...           communal standpipe      functional\n",
              "\n",
              "[5 rows x 23 columns]"
            ]
          },
          "metadata": {
            "tags": []
          },
          "execution_count": 5
        }
      ]
    },
    {
      "cell_type": "markdown",
      "metadata": {
        "cell_id": "c64d841c-6b75-436d-bf9f-5f073e8be4d6",
        "id": "yNhcRurt-cyy",
        "colab_type": "text"
      },
      "source": [
        "## Split data into features and labels"
      ]
    },
    {
      "cell_type": "code",
      "metadata": {
        "ExecuteTime": {
          "end_time": "2020-07-05T21:15:35.312665Z",
          "start_time": "2020-07-05T21:15:35.295590Z"
        },
        "cell_id": "b5aaa6a3-db7b-406a-ab60-4493ef0b021b",
        "id": "sob2kHTw-cyz",
        "colab_type": "code",
        "colab": {}
      },
      "source": [
        "y = df.status_group\n",
        "X = df.drop('status_group', axis=1)"
      ],
      "execution_count": 6,
      "outputs": []
    },
    {
      "cell_type": "markdown",
      "metadata": {
        "cell_id": "4edcdc15-a1ca-4231-84ac-2d9d15552380",
        "id": "PDND8ULU-cy3",
        "colab_type": "text"
      },
      "source": [
        "## Train / Test Split"
      ]
    },
    {
      "cell_type": "code",
      "metadata": {
        "ExecuteTime": {
          "end_time": "2020-07-05T21:15:35.370670Z",
          "start_time": "2020-07-05T21:15:35.315002Z"
        },
        "cell_id": "64c0f302-13de-46b9-bec7-9e0c2ea04363",
        "id": "333efZne-cy4",
        "colab_type": "code",
        "colab": {}
      },
      "source": [
        "X_train, X_test, y_train, y_test = train_test_split(X, y, random_state=RANDOM_SEED)"
      ],
      "execution_count": 7,
      "outputs": []
    },
    {
      "cell_type": "markdown",
      "metadata": {
        "cell_id": "1513169c-9714-40f7-a2c9-cf635db464a3",
        "id": "V4MLl-83-cy8",
        "colab_type": "text"
      },
      "source": [
        "## Define Pipeline"
      ]
    },
    {
      "cell_type": "code",
      "metadata": {
        "ExecuteTime": {
          "end_time": "2020-07-05T21:15:35.376932Z",
          "start_time": "2020-07-05T21:15:35.372935Z"
        },
        "cell_id": "5e379e01-e64a-4dc5-a233-403a0620543e",
        "id": "a8RnjDz9-cy9",
        "colab_type": "code",
        "colab": {}
      },
      "source": [
        "# high cardinality features\n",
        "high_card = ['funder', 'installer', 'lga', 'subvillage', 'ward']\n",
        "\n",
        "# not useful features\n",
        "not_useful = ['date_recorded', 'longitude', 'latitude']\n",
        "\n",
        "unwanted = high_card + not_useful"
      ],
      "execution_count": 8,
      "outputs": []
    },
    {
      "cell_type": "code",
      "metadata": {
        "ExecuteTime": {
          "end_time": "2020-07-05T21:15:35.407108Z",
          "start_time": "2020-07-05T21:15:35.379073Z"
        },
        "cell_id": "0db74a53-8e68-47ef-806f-a107f8c971b0",
        "id": "Ttegay42-czB",
        "colab_type": "code",
        "colab": {}
      },
      "source": [
        "cols_to_scale = ['gps_height', 'num_private', 'population', 'construction_year']"
      ],
      "execution_count": 9,
      "outputs": []
    },
    {
      "cell_type": "code",
      "metadata": {
        "ExecuteTime": {
          "end_time": "2020-07-05T21:15:35.414719Z",
          "start_time": "2020-07-05T21:15:35.410992Z"
        },
        "cell_id": "4070b07b-041c-4ffe-b058-01017e4aed58",
        "id": "6uIpD4Tl-czF",
        "colab_type": "code",
        "colab": {}
      },
      "source": [
        "numeric_transformer = Pipeline(steps=[('scaler', StandardScaler())])"
      ],
      "execution_count": 10,
      "outputs": []
    },
    {
      "cell_type": "code",
      "metadata": {
        "ExecuteTime": {
          "end_time": "2020-07-05T21:15:35.422882Z",
          "start_time": "2020-07-05T21:15:35.417813Z"
        },
        "cell_id": "7000a79a-60c9-4da6-ab47-15ad35f2ca1b",
        "id": "g3KQWH4b-czJ",
        "colab_type": "code",
        "colab": {}
      },
      "source": [
        "# categorical_features = list(X.select_dtypes(include=['bool', 'object']).columns)\n",
        "categorical_features = ['region',\n",
        "                         'public_meeting',\n",
        "                         'permit',\n",
        "                         'extraction_type',\n",
        "                         'management',\n",
        "                         'payment',\n",
        "                         'water_quality',\n",
        "                         'quantity',\n",
        "                         'source',\n",
        "                         'waterpoint_type']\n",
        "categorical_transformer = Pipeline(steps=[('onehot', OneHotEncoder(handle_unknown='ignore'))])"
      ],
      "execution_count": 11,
      "outputs": []
    },
    {
      "cell_type": "code",
      "metadata": {
        "ExecuteTime": {
          "end_time": "2020-07-05T21:15:35.429274Z",
          "start_time": "2020-07-05T21:15:35.425078Z"
        },
        "cell_id": "f2f044f3-3293-46da-ab1c-fa6319453d84",
        "id": "NSrA_20v-czN",
        "colab_type": "code",
        "colab": {}
      },
      "source": [
        "preprocessor = ColumnTransformer(remainder='drop',\n",
        "                                 transformers=[('num', numeric_transformer, cols_to_scale),\n",
        "                                               ('cat', categorical_transformer, categorical_features)])"
      ],
      "execution_count": 12,
      "outputs": []
    },
    {
      "cell_type": "code",
      "metadata": {
        "tags": [],
        "cell_id": "1e68fe69-844d-4465-9aab-e219d63715c5",
        "id": "fbmwXea5-czR",
        "colab_type": "code",
        "colab": {}
      },
      "source": [
        "ohe_cat_features = list(range(4,94))"
      ],
      "execution_count": 13,
      "outputs": []
    },
    {
      "cell_type": "code",
      "metadata": {
        "ExecuteTime": {
          "end_time": "2020-07-05T21:15:35.437534Z",
          "start_time": "2020-07-05T21:15:35.431350Z"
        },
        "cell_id": "3b2db4d9-2d7c-4ac4-be7e-86c4d7d33c84",
        "id": "wjw0mwOI-czV",
        "colab_type": "code",
        "colab": {}
      },
      "source": [
        "pipe = Pipeline(steps=[('preprocessor', preprocessor),\n",
        "                         ('sampling', SMOTENC(categorical_features=ohe_cat_features, random_state=RANDOM_SEED, n_jobs=-1, sampling_strategy='auto')),\n",
        "                        ('classifier', RandomForestClassifier(random_state=RANDOM_SEED, n_jobs=-1))\n",
        "                        ])"
      ],
      "execution_count": 14,
      "outputs": []
    },
    {
      "cell_type": "markdown",
      "metadata": {
        "cell_id": "214caa2d-2c54-4145-aa7b-f46dc2de1625",
        "id": "gtQkLQTl-czZ",
        "colab_type": "text"
      },
      "source": [
        "## Encode Labels"
      ]
    },
    {
      "cell_type": "code",
      "metadata": {
        "ExecuteTime": {
          "end_time": "2020-07-05T21:15:35.443288Z",
          "start_time": "2020-07-05T21:15:35.439562Z"
        },
        "cell_id": "2eb9a3a8-1293-430e-a411-ba8ca4e0087d",
        "id": "sES9-QZv-czZ",
        "colab_type": "code",
        "colab": {}
      },
      "source": [
        "le = LabelEncoder()"
      ],
      "execution_count": 15,
      "outputs": []
    },
    {
      "cell_type": "markdown",
      "metadata": {
        "cell_id": "93acbd50-1707-4471-9d03-7877a0fcaf81",
        "id": "I8adnhdE-czd",
        "colab_type": "text"
      },
      "source": [
        "### Training Features"
      ]
    },
    {
      "cell_type": "code",
      "metadata": {
        "ExecuteTime": {
          "end_time": "2020-07-05T21:15:35.462342Z",
          "start_time": "2020-07-05T21:15:35.445307Z"
        },
        "cell_id": "7a0af297-9a06-4007-8a9c-62eb8021e18e",
        "id": "XIE7bpEx-czd",
        "colab_type": "code",
        "colab": {}
      },
      "source": [
        "y_train_ready = le.fit_transform(y_train)"
      ],
      "execution_count": 16,
      "outputs": []
    },
    {
      "cell_type": "markdown",
      "metadata": {
        "cell_id": "74de9b6c-6e9b-4948-b771-4bbf33f6e750",
        "id": "FG3clp3G-czh",
        "colab_type": "text"
      },
      "source": [
        "### Test Features"
      ]
    },
    {
      "cell_type": "code",
      "metadata": {
        "ExecuteTime": {
          "end_time": "2020-07-05T21:15:35.485938Z",
          "start_time": "2020-07-05T21:15:35.464649Z"
        },
        "cell_id": "4cfd4f58-e84b-4217-8f49-fa7462c102d6",
        "id": "m8KwmefK-czi",
        "colab_type": "code",
        "colab": {}
      },
      "source": [
        "y_test_ready = le.transform(y_test)"
      ],
      "execution_count": 17,
      "outputs": []
    },
    {
      "cell_type": "markdown",
      "metadata": {
        "cell_id": "e9c77416-f3e9-4bd5-857e-f0a46c2f782c",
        "id": "uhQMyrjM-czm",
        "colab_type": "text"
      },
      "source": [
        "## Random Forest Classifier Model"
      ]
    },
    {
      "cell_type": "markdown",
      "metadata": {
        "cell_id": "f976cc7b-7406-433c-aaa7-572285786f71",
        "id": "aBo21X8f-czn",
        "colab_type": "text"
      },
      "source": [
        "### Fit The Model"
      ]
    },
    {
      "cell_type": "code",
      "metadata": {
        "ExecuteTime": {
          "end_time": "2020-07-06T00:42:06.257198Z",
          "start_time": "2020-07-05T21:15:35.488232Z"
        },
        "cell_id": "60d90e87-2f66-4846-b36e-fc0b831828e3",
        "id": "4nkptJx2-czn",
        "colab_type": "code",
        "colab": {
          "base_uri": "https://localhost:8080/",
          "height": 139
        },
        "outputId": "b26cdf5d-c036-4ca8-fca2-594410a760fa"
      },
      "source": [
        "# Number of trees in random forest\n",
        "n_estimators = [int(x) for x in np.linspace(start = 200, stop = 2000, num = 10)]\n",
        "# Number of features to consider at every split\n",
        "num_features = int(np.sqrt(20000))\n",
        "max_features = [int(x) for x in np.linspace(start=num_features-5, stop=num_features+5, num=10)]\n",
        "# Maximum number of levels in tree\n",
        "max_depth = [int(x) for x in np.linspace(20, 45, num = 6)]\n",
        "max_depth.append(None)\n",
        "# Minimum number of samples required to split a node\n",
        "min_samples_split = [2, 5, 10]\n",
        "# Minimum number of samples required at each leaf node\n",
        "min_samples_leaf = [2, 4, 6]\n",
        "\n",
        "\n",
        "# Create the random grid\n",
        "parameters = [{'classifier__n_estimators': [5000]\n",
        "#              ,'classifier__max_features': max_features\n",
        "              ,'classifier__max_depth': [25]\n",
        "              ,'classifier__min_samples_split': [5]\n",
        "              ,'classifier__min_samples_leaf': [2]}]\n",
        "\n",
        "\n",
        "scorers = {\n",
        "    'recall_score': make_scorer(recall_score, average='macro')\n",
        "}\n",
        "\n",
        "gridsearch = RandomizedSearchCV(pipe, parameters, cv=5, random_state=RANDOM_SEED, \n",
        "                                scoring=scorers, n_jobs=-1, refit='recall_score',\n",
        "                                n_iter=1)\n",
        "clf = gridsearch.fit(X_train, y_train_ready)"
      ],
      "execution_count": 18,
      "outputs": [
        {
          "output_type": "stream",
          "text": [
            "/usr/local/lib/python3.6/dist-packages/joblib/externals/loky/process_executor.py:691: UserWarning: A worker stopped while some jobs were given to the executor. This can be caused by a too short worker timeout or by a memory leak.\n",
            "  \"timeout or by a memory leak.\", UserWarning\n",
            "/usr/local/lib/python3.6/dist-packages/sklearn/utils/deprecation.py:87: FutureWarning: Function safe_indexing is deprecated; safe_indexing is deprecated in version 0.22 and will be removed in version 0.24.\n",
            "  warnings.warn(msg, category=FutureWarning)\n",
            "/usr/local/lib/python3.6/dist-packages/sklearn/utils/deprecation.py:87: FutureWarning: Function safe_indexing is deprecated; safe_indexing is deprecated in version 0.22 and will be removed in version 0.24.\n",
            "  warnings.warn(msg, category=FutureWarning)\n"
          ],
          "name": "stderr"
        }
      ]
    },
    {
      "cell_type": "markdown",
      "metadata": {
        "cell_id": "74ba4e94-76e9-4033-969b-33e8e7e90c22",
        "id": "ZMyjQqbf-czr",
        "colab_type": "text"
      },
      "source": [
        "### Get Model Predictions"
      ]
    },
    {
      "cell_type": "code",
      "metadata": {
        "ExecuteTime": {
          "end_time": "2020-07-06T00:42:32.507975Z",
          "start_time": "2020-07-06T00:42:06.261249Z"
        },
        "cell_id": "b1beb387-e442-4c6c-984d-6d5ea77fde26",
        "id": "XboT77km-czs",
        "colab_type": "code",
        "colab": {}
      },
      "source": [
        "y_hat_train = clf.predict(X_train)"
      ],
      "execution_count": 19,
      "outputs": []
    },
    {
      "cell_type": "code",
      "metadata": {
        "ExecuteTime": {
          "end_time": "2020-07-06T00:42:41.416439Z",
          "start_time": "2020-07-06T00:42:32.510279Z"
        },
        "cell_id": "06849ad6-44db-475e-a8ed-639eee42c503",
        "id": "Z2uobxVg-czv",
        "colab_type": "code",
        "colab": {}
      },
      "source": [
        "y_hat_test = clf.predict(X_test)"
      ],
      "execution_count": 20,
      "outputs": []
    },
    {
      "cell_type": "markdown",
      "metadata": {
        "cell_id": "2855cd2c-4072-49d8-8b93-2d73ddf9cb70",
        "id": "Sut63YVK-czz",
        "colab_type": "text"
      },
      "source": [
        "### Classification Reports"
      ]
    },
    {
      "cell_type": "code",
      "metadata": {
        "ExecuteTime": {
          "end_time": "2020-07-06T00:42:41.528606Z",
          "start_time": "2020-07-06T00:42:41.418837Z"
        },
        "cell_id": "85fd2adf-cb4d-4c36-a171-e7e8eecee0d0",
        "id": "LeFvjx9U-czz",
        "colab_type": "code",
        "colab": {
          "base_uri": "https://localhost:8080/",
          "height": 187
        },
        "outputId": "bddf1707-f0ce-4a93-c7ca-3cf05f4a3de9"
      },
      "source": [
        "print(classification_report(y_train_ready, y_hat_train, target_names=le.classes_))"
      ],
      "execution_count": 21,
      "outputs": [
        {
          "output_type": "stream",
          "text": [
            "                         precision    recall  f1-score   support\n",
            "\n",
            "             functional       0.88      0.80      0.84     24140\n",
            "functional needs repair       0.34      0.77      0.47      3210\n",
            "         non functional       0.90      0.80      0.85     17069\n",
            "\n",
            "               accuracy                           0.80     44419\n",
            "              macro avg       0.71      0.79      0.72     44419\n",
            "           weighted avg       0.85      0.80      0.81     44419\n",
            "\n"
          ],
          "name": "stdout"
        }
      ]
    },
    {
      "cell_type": "code",
      "metadata": {
        "ExecuteTime": {
          "end_time": "2020-07-06T00:42:41.563152Z",
          "start_time": "2020-07-06T00:42:41.530942Z"
        },
        "cell_id": "b93cd9fa-37d3-4b41-9e89-117f15f5b632",
        "id": "5-8P45t7-cz3",
        "colab_type": "code",
        "colab": {
          "base_uri": "https://localhost:8080/",
          "height": 187
        },
        "outputId": "0b0a9168-bb5e-4e91-9d1c-49033a3aff08"
      },
      "source": [
        "print(classification_report(y_test_ready, y_hat_test, target_names=le.classes_))"
      ],
      "execution_count": 22,
      "outputs": [
        {
          "output_type": "stream",
          "text": [
            "                         precision    recall  f1-score   support\n",
            "\n",
            "             functional       0.82      0.74      0.78      8031\n",
            "functional needs repair       0.25      0.59      0.35      1084\n",
            "         non functional       0.83      0.73      0.78      5692\n",
            "\n",
            "               accuracy                           0.73     14807\n",
            "              macro avg       0.63      0.69      0.64     14807\n",
            "           weighted avg       0.78      0.73      0.75     14807\n",
            "\n"
          ],
          "name": "stdout"
        }
      ]
    },
    {
      "cell_type": "markdown",
      "metadata": {
        "cell_id": "7f558156-bae1-48a6-9e71-af348481de41",
        "id": "iA9tM7fv-cz6",
        "colab_type": "text"
      },
      "source": [
        "### Confusion Matrices"
      ]
    },
    {
      "cell_type": "code",
      "metadata": {
        "ExecuteTime": {
          "end_time": "2020-07-06T00:42:50.817349Z",
          "start_time": "2020-07-06T00:42:41.565409Z"
        },
        "cell_id": "407ab535-a811-433b-b9f7-3ba6d490fbbd",
        "id": "J8kqQ8qI-cz7",
        "colab_type": "code",
        "colab": {
          "base_uri": "https://localhost:8080/",
          "height": 398
        },
        "outputId": "5af2f49b-65f3-4b5c-c1c3-3e78460a3d1c"
      },
      "source": [
        "matrix = plot_confusion_matrix(clf, X_test, y_test_ready,\n",
        "                            display_labels=le.classes_,\n",
        "                            cmap=plt.cm.Blues,\n",
        "                            xticks_rotation=70)\n",
        "matrix.ax_.set_title('Confustion Matrix, without Normalization')\n",
        "\n",
        "plt.show()"
      ],
      "execution_count": 23,
      "outputs": [
        {
          "output_type": "display_data",
          "data": {
            "image/png": "[encoded data removed]",
            "text/plain": [
              "<Figure size 432x288 with 2 Axes>"
            ]
          },
          "metadata": {
            "tags": [],
            "needs_background": "light"
          }
        }
      ]
    },
    {
      "cell_type": "code",
      "metadata": {
        "ExecuteTime": {
          "end_time": "2020-07-06T00:43:00.088933Z",
          "start_time": "2020-07-06T00:42:50.819569Z"
        },
        "cell_id": "fdfdfae4-5a2e-4933-ac33-db9c90a3b9bb",
        "id": "d5wOrbly-cz-",
        "colab_type": "code",
        "colab": {
          "base_uri": "https://localhost:8080/",
          "height": 398
        },
        "outputId": "92be7041-30ea-4d2e-afe6-7a1c0abeee5e"
      },
      "source": [
        "matrix_norm = plot_confusion_matrix(clf, X_test, y_test_ready,\n",
        "                                   display_labels=le.classes_,\n",
        "                                   cmap=plt.cm.Blues,\n",
        "                                   normalize='true',\n",
        "                                   xticks_rotation=70)\n",
        "matrix_norm.ax_.set_title('Normalized Confustion Matrix')\n",
        "\n",
        "plt.show()"
      ],
      "execution_count": 24,
      "outputs": [
        {
          "output_type": "display_data",
          "data": {
            "image/png": "[encoded data removed]",
            "text/plain": [
              "<Figure size 432x288 with 2 Axes>"
            ]
          },
          "metadata": {
            "tags": [],
            "needs_background": "light"
          }
        }
      ]
    },
    {
      "cell_type": "markdown",
      "metadata": {
        "cell_id": "e4556f22-f21e-40aa-9562-162bb10acf9a",
        "id": "NO_BaKBA-c0C",
        "colab_type": "text"
      },
      "source": [
        "### Compute Multiclass AUC Score"
      ]
    },
    {
      "cell_type": "code",
      "metadata": {
        "ExecuteTime": {
          "end_time": "2020-07-06T00:43:08.943413Z",
          "start_time": "2020-07-06T00:43:00.091331Z"
        },
        "cell_id": "1d1b24e8-35cb-45f3-86f5-7692896192f7",
        "id": "HRweJJep-c0D",
        "colab_type": "code",
        "colab": {}
      },
      "source": [
        "# convert labels from shape n, to n,3\n",
        "lb = LabelBinarizer()\n",
        "lb.fit(y_test_ready)\n",
        "y_test_multi = lb.transform(y_test_ready)\n",
        "y_hat_test_multi = clf.predict_proba(X_test)\n",
        "# y_hat_test_multi = lb.transform(clf.predict(X_test))"
      ],
      "execution_count": 25,
      "outputs": []
    },
    {
      "cell_type": "code",
      "metadata": {
        "ExecuteTime": {
          "end_time": "2020-07-06T00:43:08.968540Z",
          "start_time": "2020-07-06T00:43:08.951311Z"
        },
        "scrolled": true,
        "cell_id": "56974b30-582c-4bd7-8a62-eb7b1bed075b",
        "id": "pNjQfRkC-c0H",
        "colab_type": "code",
        "colab": {
          "base_uri": "https://localhost:8080/",
          "height": 34
        },
        "outputId": "14209a18-84f2-43a6-9df4-74f8dea3f5ed"
      },
      "source": [
        "roc_auc_score(y_test_ready, y_hat_test_multi, multi_class='ovr')"
      ],
      "execution_count": 26,
      "outputs": [
        {
          "output_type": "execute_result",
          "data": {
            "text/plain": [
              "0.8734128478670401"
            ]
          },
          "metadata": {
            "tags": []
          },
          "execution_count": 26
        }
      ]
    },
    {
      "cell_type": "markdown",
      "metadata": {
        "cell_id": "3dc0d106-cccb-4bbb-a34f-a051d326dcc8",
        "id": "WS0eSmEv-c0L",
        "colab_type": "text"
      },
      "source": [
        "### Multiclass ROC Curves"
      ]
    },
    {
      "cell_type": "code",
      "metadata": {
        "ExecuteTime": {
          "end_time": "2020-07-06T00:43:09.624755Z",
          "start_time": "2020-07-06T00:43:08.973142Z"
        },
        "cell_id": "77a63984-d87a-4fde-95c2-2af1e7a1867c",
        "id": "3mvy2Kqx-c0L",
        "colab_type": "code",
        "colab": {
          "base_uri": "https://localhost:8080/",
          "height": 851
        },
        "outputId": "277f4730-4746-4849-e197-a4a483bef9a4"
      },
      "source": [
        "# Compute ROC curve and ROC area for each class\n",
        "fpr = dict()\n",
        "tpr = dict()\n",
        "roc_auc = dict()\n",
        "for i in range(3):\n",
        "    fpr[i], tpr[i], _ = roc_curve(y_test_multi[:, i], y_hat_test_multi[:, i])\n",
        "    roc_auc[i] = auc(fpr[i], tpr[i])\n",
        "\n",
        "# Plot of a ROC curve for a specific class\n",
        "for i, class_ in enumerate(le.classes_):\n",
        "    plt.figure()\n",
        "    plt.plot(fpr[i], tpr[i], label='ROC curve (area = %0.2f)' % roc_auc[i])\n",
        "    plt.plot([0, 1], [0, 1], 'k--')\n",
        "    plt.xlim([0.0, 1.0])\n",
        "    plt.ylim([0.0, 1.05])\n",
        "    plt.xlabel('False Positive Rate')\n",
        "    plt.ylabel('True Positive Rate')\n",
        "    plt.title(f'Receiver operating characteristic for {class_}')\n",
        "    plt.legend(loc=\"lower right\")\n",
        "    plt.show()"
      ],
      "execution_count": 27,
      "outputs": [
        {
          "output_type": "display_data",
          "data": {
            "image/png": "[encoded data removed]",
            "text/plain": [
              "<Figure size 432x288 with 1 Axes>"
            ]
          },
          "metadata": {
            "tags": [],
            "needs_background": "light"
          }
        },
        {
          "output_type": "display_data",
          "data": {
            "image/png": "[encoded data removed]",
            "text/plain": [
              "<Figure size 432x288 with 1 Axes>"
            ]
          },
          "metadata": {
            "tags": [],
            "needs_background": "light"
          }
        },
        {
          "output_type": "display_data",
          "data": {
            "image/png": "[encoded data removed]",
            "text/plain": [
              "<Figure size 432x288 with 1 Axes>"
            ]
          },
          "metadata": {
            "tags": [],
            "needs_background": "light"
          }
        }
      ]
    },
    {
      "cell_type": "markdown",
      "metadata": {
        "cell_id": "af05ff59-d95d-47c3-adb6-6e41ab4292ce",
        "id": "piCauyKN-c0P",
        "colab_type": "text"
      },
      "source": [
        "## Save Model"
      ]
    },
    {
      "cell_type": "code",
      "metadata": {
        "ExecuteTime": {
          "end_time": "2020-07-06T00:50:08.120452Z",
          "start_time": "2020-07-06T00:49:47.478967Z"
        },
        "cell_id": "ae3bfda3-751c-40c2-b81b-f9e7b1e5a217",
        "id": "Wi20yCY8-c0Q",
        "colab_type": "code",
        "colab": {}
      },
      "source": [
        " if SAVE_FILE:\n",
        "    joblib.dump(clf, MODEL_PATH+MODEL_FILE_NAME)"
      ],
      "execution_count": 28,
      "outputs": []
    },
    {
      "cell_type": "markdown",
      "metadata": {
        "cell_id": "6b7d9362-6a2d-46f3-ba00-77e8b0fadb9b",
        "id": "nzMNdEB3-c0U",
        "colab_type": "text"
      },
      "source": [
        "## Summary of Results"
      ]
    },
    {
      "cell_type": "markdown",
      "metadata": {
        "cell_id": "96effd85-20f5-429b-b028-0dbe50cad238",
        "id": "7TSHhnU3-c0U",
        "colab_type": "text"
      },
      "source": [
        ""
      ]
    },
    {
      "cell_type": "code",
      "metadata": {
        "cell_id": "91249aad-f6cf-4bfd-aa0c-47d9feefd9da",
        "id": "BVNVhn8F-c0V",
        "colab_type": "code",
        "colab": {
          "base_uri": "https://localhost:8080/",
          "height": 85
        },
        "outputId": "5527671f-eaf8-479a-bc4d-929690371771"
      },
      "source": [
        "clf.best_params_"
      ],
      "execution_count": 29,
      "outputs": [
        {
          "output_type": "execute_result",
          "data": {
            "text/plain": [
              "{'classifier__max_depth': 25,\n",
              " 'classifier__min_samples_leaf': 2,\n",
              " 'classifier__min_samples_split': 5,\n",
              " 'classifier__n_estimators': 5000}"
            ]
          },
          "metadata": {
            "tags": []
          },
          "execution_count": 29
        }
      ]
    },
    {
      "cell_type": "code",
      "metadata": {
        "tags": [],
        "cell_id": "9569be79-2c82-4902-b1e7-11ec5257bb2f",
        "id": "lYAY5zRP-c0Z",
        "colab_type": "code",
        "colab": {}
      },
      "source": [
        ""
      ],
      "execution_count": 29,
      "outputs": []
    }
  ]
}