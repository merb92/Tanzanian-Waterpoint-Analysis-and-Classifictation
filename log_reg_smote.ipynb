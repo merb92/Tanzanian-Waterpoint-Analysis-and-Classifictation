{
 "cells": [
  {
   "cell_type": "markdown",
   "metadata": {},
   "source": [
    "# Logistic Regression with SMOTE"
   ]
  },
  {
   "cell_type": "markdown",
   "metadata": {},
   "source": [
    "## Imports and Constants"
   ]
  },
  {
   "cell_type": "code",
   "execution_count": 1,
   "metadata": {
    "ExecuteTime": {
     "end_time": "2020-07-12T00:17:51.691696Z",
     "start_time": "2020-07-12T00:17:50.539523Z"
    }
   },
   "outputs": [
    {
     "name": "stderr",
     "output_type": "stream",
     "text": [
      "/Users/freethrall/anaconda3/envs/learn-env/lib/python3.6/site-packages/statsmodels/tools/_testing.py:19: FutureWarning: pandas.util.testing is deprecated. Use the functions in the public API at pandas.testing instead.\n",
      "  import pandas.util.testing as tm\n",
      "/Users/freethrall/anaconda3/envs/learn-env/lib/python3.6/site-packages/sklearn/externals/six.py:31: FutureWarning: The module is deprecated in version 0.21 and will be removed in version 0.23 since we've dropped support for Python 2.7. Please rely on the official version of six (https://pypi.org/project/six/).\n",
      "  \"(https://pypi.org/project/six/).\", FutureWarning)\n",
      "/Users/freethrall/anaconda3/envs/learn-env/lib/python3.6/site-packages/sklearn/utils/deprecation.py:144: FutureWarning: The sklearn.neighbors.base module is  deprecated in version 0.22 and will be removed in version 0.24. The corresponding classes / functions should instead be imported from sklearn.neighbors. Anything that cannot be imported from sklearn.neighbors is now part of the private API.\n",
      "  warnings.warn(message, FutureWarning)\n"
     ]
    }
   ],
   "source": [
    "from sklearn.linear_model import LogisticRegression\n",
    "from sklearn.model_selection import train_test_split\n",
    "import pandas as pd\n",
    "import numpy as np\n",
    "from sklearn.preprocessing import StandardScaler\n",
    "from sklearn.compose import ColumnTransformer\n",
    "from sklearn.preprocessing import OneHotEncoder\n",
    "from sklearn.preprocessing import LabelEncoder\n",
    "from sklearn.metrics import confusion_matrix\n",
    "from sklearn.metrics import classification_report\n",
    "from sklearn.metrics import plot_confusion_matrix\n",
    "import matplotlib.pyplot as plt\n",
    "%matplotlib inline\n",
    "import seaborn as sns\n",
    "from sklearn.metrics import roc_curve, auc\n",
    "from sklearn.metrics import roc_auc_score\n",
    "from sklearn.preprocessing import LabelBinarizer\n",
    "from sklearn.multiclass import OneVsRestClassifier\n",
    "import joblib\n",
    "from imblearn.pipeline import Pipeline\n",
    "from imblearn.over_sampling import SMOTE"
   ]
  },
  {
   "cell_type": "code",
   "execution_count": 2,
   "metadata": {
    "ExecuteTime": {
     "end_time": "2020-07-12T00:17:51.698115Z",
     "start_time": "2020-07-12T00:17:51.694243Z"
    }
   },
   "outputs": [],
   "source": [
    "RANDOM_SEED = 8\n",
    "DATA_PATH = 'data/'\n",
    "MODEL_PATH = 'models/'"
   ]
  },
  {
   "cell_type": "markdown",
   "metadata": {},
   "source": [
    "## Read in Data"
   ]
  },
  {
   "cell_type": "code",
   "execution_count": 3,
   "metadata": {
    "ExecuteTime": {
     "end_time": "2020-07-12T00:17:52.090329Z",
     "start_time": "2020-07-12T00:17:51.701113Z"
    }
   },
   "outputs": [
    {
     "data": {
      "text/html": [
       "<div>\n",
       "<style scoped>\n",
       "    .dataframe tbody tr th:only-of-type {\n",
       "        vertical-align: middle;\n",
       "    }\n",
       "\n",
       "    .dataframe tbody tr th {\n",
       "        vertical-align: top;\n",
       "    }\n",
       "\n",
       "    .dataframe thead th {\n",
       "        text-align: right;\n",
       "    }\n",
       "</style>\n",
       "<table border=\"1\" class=\"dataframe\">\n",
       "  <thead>\n",
       "    <tr style=\"text-align: right;\">\n",
       "      <th></th>\n",
       "      <th>date_recorded</th>\n",
       "      <th>funder</th>\n",
       "      <th>gps_height</th>\n",
       "      <th>installer</th>\n",
       "      <th>longitude</th>\n",
       "      <th>latitude</th>\n",
       "      <th>num_private</th>\n",
       "      <th>subvillage</th>\n",
       "      <th>region</th>\n",
       "      <th>lga</th>\n",
       "      <th>...</th>\n",
       "      <th>permit</th>\n",
       "      <th>construction_year</th>\n",
       "      <th>extraction_type</th>\n",
       "      <th>management</th>\n",
       "      <th>payment</th>\n",
       "      <th>water_quality</th>\n",
       "      <th>quantity</th>\n",
       "      <th>source</th>\n",
       "      <th>waterpoint_type</th>\n",
       "      <th>status_group</th>\n",
       "    </tr>\n",
       "  </thead>\n",
       "  <tbody>\n",
       "    <tr>\n",
       "      <th>0</th>\n",
       "      <td>2011-03-14</td>\n",
       "      <td>roman</td>\n",
       "      <td>1390.000000</td>\n",
       "      <td>roman</td>\n",
       "      <td>34.938093</td>\n",
       "      <td>-9.856322</td>\n",
       "      <td>0</td>\n",
       "      <td>Mnyusi B</td>\n",
       "      <td>Iringa</td>\n",
       "      <td>Ludewa</td>\n",
       "      <td>...</td>\n",
       "      <td>False</td>\n",
       "      <td>1999</td>\n",
       "      <td>gravity</td>\n",
       "      <td>vwc</td>\n",
       "      <td>pay annually</td>\n",
       "      <td>soft</td>\n",
       "      <td>enough</td>\n",
       "      <td>spring</td>\n",
       "      <td>communal standpipe</td>\n",
       "      <td>functional</td>\n",
       "    </tr>\n",
       "    <tr>\n",
       "      <th>1</th>\n",
       "      <td>2013-03-06</td>\n",
       "      <td>grumeti</td>\n",
       "      <td>1399.000000</td>\n",
       "      <td>grumeti</td>\n",
       "      <td>34.698766</td>\n",
       "      <td>-2.147466</td>\n",
       "      <td>0</td>\n",
       "      <td>Nyamara</td>\n",
       "      <td>Mara</td>\n",
       "      <td>Serengeti</td>\n",
       "      <td>...</td>\n",
       "      <td>True</td>\n",
       "      <td>2010</td>\n",
       "      <td>gravity</td>\n",
       "      <td>wug</td>\n",
       "      <td>never pay</td>\n",
       "      <td>soft</td>\n",
       "      <td>insufficient</td>\n",
       "      <td>rainwater harvesting</td>\n",
       "      <td>communal standpipe</td>\n",
       "      <td>functional</td>\n",
       "    </tr>\n",
       "    <tr>\n",
       "      <th>2</th>\n",
       "      <td>2013-02-25</td>\n",
       "      <td>lottery club</td>\n",
       "      <td>686.000000</td>\n",
       "      <td>world vision</td>\n",
       "      <td>37.460664</td>\n",
       "      <td>-3.821329</td>\n",
       "      <td>0</td>\n",
       "      <td>Majengo</td>\n",
       "      <td>Manyara</td>\n",
       "      <td>Simanjiro</td>\n",
       "      <td>...</td>\n",
       "      <td>True</td>\n",
       "      <td>2009</td>\n",
       "      <td>gravity</td>\n",
       "      <td>vwc</td>\n",
       "      <td>pay per bucket</td>\n",
       "      <td>soft</td>\n",
       "      <td>enough</td>\n",
       "      <td>dam</td>\n",
       "      <td>communal standpipe multiple</td>\n",
       "      <td>functional</td>\n",
       "    </tr>\n",
       "    <tr>\n",
       "      <th>3</th>\n",
       "      <td>2013-01-28</td>\n",
       "      <td>unicef</td>\n",
       "      <td>263.000000</td>\n",
       "      <td>unicef</td>\n",
       "      <td>38.486161</td>\n",
       "      <td>-11.155298</td>\n",
       "      <td>0</td>\n",
       "      <td>Mahakamani</td>\n",
       "      <td>Mtwara</td>\n",
       "      <td>Nanyumbu</td>\n",
       "      <td>...</td>\n",
       "      <td>True</td>\n",
       "      <td>1986</td>\n",
       "      <td>submersible</td>\n",
       "      <td>vwc</td>\n",
       "      <td>never pay</td>\n",
       "      <td>soft</td>\n",
       "      <td>dry</td>\n",
       "      <td>machine dbh</td>\n",
       "      <td>communal standpipe multiple</td>\n",
       "      <td>non functional</td>\n",
       "    </tr>\n",
       "    <tr>\n",
       "      <th>4</th>\n",
       "      <td>2011-07-13</td>\n",
       "      <td>action in a</td>\n",
       "      <td>1018.821805</td>\n",
       "      <td>artisan</td>\n",
       "      <td>31.130847</td>\n",
       "      <td>-1.825359</td>\n",
       "      <td>0</td>\n",
       "      <td>Kyanyamisa</td>\n",
       "      <td>Kagera</td>\n",
       "      <td>Karagwe</td>\n",
       "      <td>...</td>\n",
       "      <td>True</td>\n",
       "      <td>2000</td>\n",
       "      <td>gravity</td>\n",
       "      <td>other</td>\n",
       "      <td>never pay</td>\n",
       "      <td>soft</td>\n",
       "      <td>seasonal</td>\n",
       "      <td>rainwater harvesting</td>\n",
       "      <td>communal standpipe</td>\n",
       "      <td>functional</td>\n",
       "    </tr>\n",
       "  </tbody>\n",
       "</table>\n",
       "<p>5 rows × 23 columns</p>\n",
       "</div>"
      ],
      "text/plain": [
       "  date_recorded        funder   gps_height     installer  longitude  \\\n",
       "0    2011-03-14         roman  1390.000000         roman  34.938093   \n",
       "1    2013-03-06       grumeti  1399.000000       grumeti  34.698766   \n",
       "2    2013-02-25  lottery club   686.000000  world vision  37.460664   \n",
       "3    2013-01-28        unicef   263.000000        unicef  38.486161   \n",
       "4    2011-07-13   action in a  1018.821805       artisan  31.130847   \n",
       "\n",
       "    latitude  num_private  subvillage   region        lga  ... permit  \\\n",
       "0  -9.856322            0    Mnyusi B   Iringa     Ludewa  ...  False   \n",
       "1  -2.147466            0     Nyamara     Mara  Serengeti  ...   True   \n",
       "2  -3.821329            0     Majengo  Manyara  Simanjiro  ...   True   \n",
       "3 -11.155298            0  Mahakamani   Mtwara   Nanyumbu  ...   True   \n",
       "4  -1.825359            0  Kyanyamisa   Kagera    Karagwe  ...   True   \n",
       "\n",
       "   construction_year  extraction_type  management         payment  \\\n",
       "0               1999          gravity         vwc    pay annually   \n",
       "1               2010          gravity         wug       never pay   \n",
       "2               2009          gravity         vwc  pay per bucket   \n",
       "3               1986      submersible         vwc       never pay   \n",
       "4               2000          gravity       other       never pay   \n",
       "\n",
       "  water_quality      quantity                source  \\\n",
       "0          soft        enough                spring   \n",
       "1          soft  insufficient  rainwater harvesting   \n",
       "2          soft        enough                   dam   \n",
       "3          soft           dry           machine dbh   \n",
       "4          soft      seasonal  rainwater harvesting   \n",
       "\n",
       "               waterpoint_type    status_group  \n",
       "0           communal standpipe      functional  \n",
       "1           communal standpipe      functional  \n",
       "2  communal standpipe multiple      functional  \n",
       "3  communal standpipe multiple  non functional  \n",
       "4           communal standpipe      functional  \n",
       "\n",
       "[5 rows x 23 columns]"
      ]
     },
     "execution_count": 3,
     "metadata": {},
     "output_type": "execute_result"
    }
   ],
   "source": [
    "df = pd.read_csv(DATA_PATH+'clean_water_well_data.csv')\n",
    "df.head()"
   ]
  },
  {
   "cell_type": "markdown",
   "metadata": {},
   "source": [
    "## Split data into features and labels"
   ]
  },
  {
   "cell_type": "code",
   "execution_count": 4,
   "metadata": {
    "ExecuteTime": {
     "end_time": "2020-07-12T00:17:52.109840Z",
     "start_time": "2020-07-12T00:17:52.092842Z"
    }
   },
   "outputs": [],
   "source": [
    "y = df.status_group\n",
    "X = df.drop('status_group', axis=1)"
   ]
  },
  {
   "cell_type": "markdown",
   "metadata": {},
   "source": [
    "## Train / Test Split"
   ]
  },
  {
   "cell_type": "code",
   "execution_count": 5,
   "metadata": {
    "ExecuteTime": {
     "end_time": "2020-07-12T00:17:52.164328Z",
     "start_time": "2020-07-12T00:17:52.112201Z"
    }
   },
   "outputs": [],
   "source": [
    "X_train, X_test, y_train, y_test = train_test_split(X, y, random_state=RANDOM_SEED)"
   ]
  },
  {
   "cell_type": "markdown",
   "metadata": {},
   "source": [
    "## Define Pipeline"
   ]
  },
  {
   "cell_type": "code",
   "execution_count": 6,
   "metadata": {
    "ExecuteTime": {
     "end_time": "2020-07-12T00:17:52.170678Z",
     "start_time": "2020-07-12T00:17:52.166432Z"
    }
   },
   "outputs": [],
   "source": [
    "# high cardinality features\n",
    "high_card = ['funder', 'installer', 'lga', 'subvillage', 'ward']\n",
    "\n",
    "# not useful features\n",
    "not_useful = ['date_recorded', 'longitude', 'latitude']\n",
    "\n",
    "unwanted = high_card + not_useful"
   ]
  },
  {
   "cell_type": "code",
   "execution_count": 7,
   "metadata": {
    "ExecuteTime": {
     "end_time": "2020-07-12T00:17:52.176344Z",
     "start_time": "2020-07-12T00:17:52.172937Z"
    }
   },
   "outputs": [],
   "source": [
    "cols_to_scale = ['gps_height', 'num_private', 'population', 'construction_year']"
   ]
  },
  {
   "cell_type": "code",
   "execution_count": 8,
   "metadata": {
    "ExecuteTime": {
     "end_time": "2020-07-12T00:17:52.184457Z",
     "start_time": "2020-07-12T00:17:52.180607Z"
    }
   },
   "outputs": [],
   "source": [
    "numeric_transformer = Pipeline(steps=[('scaler', StandardScaler())])"
   ]
  },
  {
   "cell_type": "code",
   "execution_count": 9,
   "metadata": {
    "ExecuteTime": {
     "end_time": "2020-07-12T00:17:52.201536Z",
     "start_time": "2020-07-12T00:17:52.187408Z"
    }
   },
   "outputs": [],
   "source": [
    "categorical_features = ['region',\n",
    "                         'public_meeting',\n",
    "                         'permit',\n",
    "                         'extraction_type',\n",
    "                         'management',\n",
    "                         'payment',\n",
    "                         'water_quality',\n",
    "                         'quantity',\n",
    "                         'source',\n",
    "                         'waterpoint_type']\n",
    "categorical_transformer = Pipeline(steps=[('onehot', OneHotEncoder(handle_unknown='ignore'))])"
   ]
  },
  {
   "cell_type": "code",
   "execution_count": 10,
   "metadata": {
    "ExecuteTime": {
     "end_time": "2020-07-12T00:17:52.208271Z",
     "start_time": "2020-07-12T00:17:52.203857Z"
    }
   },
   "outputs": [],
   "source": [
    "preprocessor = ColumnTransformer(remainder='drop',\n",
    "                                 transformers=[('num', numeric_transformer, cols_to_scale),\n",
    "                                              ('cat', categorical_transformer, categorical_features)])"
   ]
  },
  {
   "cell_type": "code",
   "execution_count": 11,
   "metadata": {
    "ExecuteTime": {
     "end_time": "2020-07-12T00:17:52.216694Z",
     "start_time": "2020-07-12T00:17:52.211147Z"
    }
   },
   "outputs": [],
   "source": [
    "logreg = Pipeline(steps=[('preprocessor', preprocessor),\n",
    "                         ('sampling', SMOTE(random_state=RANDOM_SEED, n_jobs=-1, sampling_strategy='auto')),\n",
    "                        ('classifier', LogisticRegression(solver='saga', \n",
    "                                                          random_state=RANDOM_SEED,\n",
    "                                                          multi_class='ovr',\n",
    "                                                          max_iter=10000,\n",
    "                                                          n_jobs=-1))])"
   ]
  },
  {
   "cell_type": "markdown",
   "metadata": {},
   "source": [
    "## Encode Labels"
   ]
  },
  {
   "cell_type": "code",
   "execution_count": 12,
   "metadata": {
    "ExecuteTime": {
     "end_time": "2020-07-12T00:17:52.222216Z",
     "start_time": "2020-07-12T00:17:52.218960Z"
    }
   },
   "outputs": [],
   "source": [
    "le = LabelEncoder()"
   ]
  },
  {
   "cell_type": "markdown",
   "metadata": {},
   "source": [
    "### Training Features"
   ]
  },
  {
   "cell_type": "code",
   "execution_count": 13,
   "metadata": {
    "ExecuteTime": {
     "end_time": "2020-07-12T00:17:52.242175Z",
     "start_time": "2020-07-12T00:17:52.224446Z"
    }
   },
   "outputs": [],
   "source": [
    "y_train_ready = le.fit_transform(y_train)"
   ]
  },
  {
   "cell_type": "markdown",
   "metadata": {},
   "source": [
    "### Test Features"
   ]
  },
  {
   "cell_type": "code",
   "execution_count": 14,
   "metadata": {
    "ExecuteTime": {
     "end_time": "2020-07-12T00:17:52.252353Z",
     "start_time": "2020-07-12T00:17:52.244309Z"
    }
   },
   "outputs": [],
   "source": [
    "y_test_ready = le.transform(y_test)"
   ]
  },
  {
   "cell_type": "markdown",
   "metadata": {},
   "source": [
    "## Logistic Regression Model"
   ]
  },
  {
   "cell_type": "markdown",
   "metadata": {},
   "source": [
    "### Fit The Model"
   ]
  },
  {
   "cell_type": "code",
   "execution_count": 15,
   "metadata": {
    "ExecuteTime": {
     "end_time": "2020-07-12T00:20:21.574043Z",
     "start_time": "2020-07-12T00:17:52.254334Z"
    }
   },
   "outputs": [
    {
     "name": "stderr",
     "output_type": "stream",
     "text": [
      "/Users/freethrall/anaconda3/envs/learn-env/lib/python3.6/site-packages/sklearn/utils/deprecation.py:87: FutureWarning: Function safe_indexing is deprecated; safe_indexing is deprecated in version 0.22 and will be removed in version 0.24.\n",
      "  warnings.warn(msg, category=FutureWarning)\n"
     ]
    },
    {
     "data": {
      "text/plain": [
       "Pipeline(memory=None,\n",
       "         steps=[('preprocessor',\n",
       "                 ColumnTransformer(n_jobs=None, remainder='drop',\n",
       "                                   sparse_threshold=0.3,\n",
       "                                   transformer_weights=None,\n",
       "                                   transformers=[('num',\n",
       "                                                  Pipeline(memory=None,\n",
       "                                                           steps=[('scaler',\n",
       "                                                                   StandardScaler(copy=True,\n",
       "                                                                                  with_mean=True,\n",
       "                                                                                  with_std=True))],\n",
       "                                                           verbose=False),\n",
       "                                                  ['gps_height', 'num_private',\n",
       "                                                   'population',\n",
       "                                                   'construction_year']),\n",
       "                                                 ('cat',\n",
       "                                                  Pipeline(mem...\n",
       "                       out_step='deprecated', random_state=8, ratio=None,\n",
       "                       sampling_strategy='auto', svm_estimator='deprecated')),\n",
       "                ('classifier',\n",
       "                 LogisticRegression(C=1.0, class_weight=None, dual=False,\n",
       "                                    fit_intercept=True, intercept_scaling=1,\n",
       "                                    l1_ratio=None, max_iter=10000,\n",
       "                                    multi_class='ovr', n_jobs=-1, penalty='l2',\n",
       "                                    random_state=8, solver='saga', tol=0.0001,\n",
       "                                    verbose=0, warm_start=False))],\n",
       "         verbose=False)"
      ]
     },
     "execution_count": 15,
     "metadata": {},
     "output_type": "execute_result"
    }
   ],
   "source": [
    "logreg.fit(X_train, y_train_ready)"
   ]
  },
  {
   "cell_type": "markdown",
   "metadata": {},
   "source": [
    "### Get Model Predictions"
   ]
  },
  {
   "cell_type": "code",
   "execution_count": 16,
   "metadata": {
    "ExecuteTime": {
     "end_time": "2020-07-12T00:20:21.777439Z",
     "start_time": "2020-07-12T00:20:21.575917Z"
    }
   },
   "outputs": [],
   "source": [
    "y_hat_train = logreg.predict(X_train)"
   ]
  },
  {
   "cell_type": "code",
   "execution_count": 17,
   "metadata": {
    "ExecuteTime": {
     "end_time": "2020-07-12T00:20:21.852718Z",
     "start_time": "2020-07-12T00:20:21.779912Z"
    }
   },
   "outputs": [],
   "source": [
    "y_hat_test = logreg.predict(X_test)"
   ]
  },
  {
   "cell_type": "markdown",
   "metadata": {},
   "source": [
    "### Classification Reports"
   ]
  },
  {
   "cell_type": "code",
   "execution_count": 18,
   "metadata": {
    "ExecuteTime": {
     "end_time": "2020-07-12T00:20:21.934516Z",
     "start_time": "2020-07-12T00:20:21.855010Z"
    }
   },
   "outputs": [
    {
     "name": "stdout",
     "output_type": "stream",
     "text": [
      "                         precision    recall  f1-score   support\n",
      "\n",
      "             functional       0.78      0.60      0.68     24140\n",
      "functional needs repair       0.17      0.64      0.27      3210\n",
      "         non functional       0.78      0.63      0.70     17069\n",
      "\n",
      "               accuracy                           0.61     44419\n",
      "              macro avg       0.58      0.62      0.55     44419\n",
      "           weighted avg       0.74      0.61      0.66     44419\n",
      "\n"
     ]
    }
   ],
   "source": [
    "print(classification_report(y_train_ready, y_hat_train, target_names=le.classes_))"
   ]
  },
  {
   "cell_type": "code",
   "execution_count": 19,
   "metadata": {
    "ExecuteTime": {
     "end_time": "2020-07-12T00:20:21.968943Z",
     "start_time": "2020-07-12T00:20:21.936770Z"
    }
   },
   "outputs": [
    {
     "name": "stdout",
     "output_type": "stream",
     "text": [
      "                         precision    recall  f1-score   support\n",
      "\n",
      "             functional       0.77      0.59      0.67      8031\n",
      "functional needs repair       0.17      0.65      0.27      1084\n",
      "         non functional       0.78      0.61      0.68      5692\n",
      "\n",
      "               accuracy                           0.60     14807\n",
      "              macro avg       0.57      0.62      0.54     14807\n",
      "           weighted avg       0.73      0.60      0.64     14807\n",
      "\n"
     ]
    }
   ],
   "source": [
    "print(classification_report(y_test_ready, y_hat_test, target_names=le.classes_))"
   ]
  },
  {
   "cell_type": "markdown",
   "metadata": {},
   "source": [
    "### Confusion Matrices"
   ]
  },
  {
   "cell_type": "code",
   "execution_count": 20,
   "metadata": {
    "ExecuteTime": {
     "end_time": "2020-07-12T00:20:22.328477Z",
     "start_time": "2020-07-12T00:20:21.971088Z"
    }
   },
   "outputs": [
    {
     "data": {
      "image/png": "[encoded data removed]",
      "text/plain": [
       "<Figure size 432x288 with 2 Axes>"
      ]
     },
     "metadata": {
      "needs_background": "light"
     },
     "output_type": "display_data"
    }
   ],
   "source": [
    "matrix = plot_confusion_matrix(logreg, X_test, y_test_ready,\n",
    "                            display_labels=le.classes_,\n",
    "                            cmap=plt.cm.Blues,\n",
    "                            xticks_rotation=70)\n",
    "matrix.ax_.set_title('Confustion Matrix, without Normalization')\n",
    "\n",
    "plt.show()"
   ]
  },
  {
   "cell_type": "code",
   "execution_count": 21,
   "metadata": {
    "ExecuteTime": {
     "end_time": "2020-07-12T00:20:22.655367Z",
     "start_time": "2020-07-12T00:20:22.330588Z"
    }
   },
   "outputs": [
    {
     "data": {
      "image/png": "[encoded data removed]",
      "text/plain": [
       "<Figure size 432x288 with 2 Axes>"
      ]
     },
     "metadata": {
      "needs_background": "light"
     },
     "output_type": "display_data"
    }
   ],
   "source": [
    "matrix_norm = plot_confusion_matrix(logreg, X_test, y_test_ready,\n",
    "                                   display_labels=le.classes_,\n",
    "                                   cmap=plt.cm.Blues,\n",
    "                                   normalize='true',\n",
    "                                   xticks_rotation=70)\n",
    "matrix_norm.ax_.set_title('Normalized Confustion Matrix')\n",
    "\n",
    "plt.show()"
   ]
  },
  {
   "cell_type": "markdown",
   "metadata": {},
   "source": [
    "### Compute Multiclass AUC Score"
   ]
  },
  {
   "cell_type": "code",
   "execution_count": 22,
   "metadata": {
    "ExecuteTime": {
     "end_time": "2020-07-12T00:20:22.724041Z",
     "start_time": "2020-07-12T00:20:22.657503Z"
    }
   },
   "outputs": [],
   "source": [
    "# convert labels from shape n, to n,3\n",
    "lb = LabelBinarizer()\n",
    "lb.fit(y_test_ready)\n",
    "y_test_multi = lb.transform(y_test_ready)\n",
    "y_hat_test_multi = logreg.predict_proba(X_test)\n",
    "# y_hat_test_multi = lb.transform(logreg.predict(X_test))"
   ]
  },
  {
   "cell_type": "code",
   "execution_count": 23,
   "metadata": {
    "ExecuteTime": {
     "end_time": "2020-07-12T00:20:22.754846Z",
     "start_time": "2020-07-12T00:20:22.731541Z"
    },
    "scrolled": true
   },
   "outputs": [
    {
     "data": {
      "text/plain": [
       "0.8052102848987626"
      ]
     },
     "execution_count": 23,
     "metadata": {},
     "output_type": "execute_result"
    }
   ],
   "source": [
    "roc_auc_score(y_test_ready, y_hat_test_multi, multi_class='ovr')"
   ]
  },
  {
   "cell_type": "markdown",
   "metadata": {},
   "source": [
    "### Multiclass ROC Curves"
   ]
  },
  {
   "cell_type": "code",
   "execution_count": 24,
   "metadata": {
    "ExecuteTime": {
     "end_time": "2020-07-12T00:20:23.438972Z",
     "start_time": "2020-07-12T00:20:22.759337Z"
    }
   },
   "outputs": [
    {
     "data": {
      "image/png": "[encoded data removed]",
      "text/plain": [
       "<Figure size 432x288 with 1 Axes>"
      ]
     },
     "metadata": {
      "needs_background": "light"
     },
     "output_type": "display_data"
    },
    {
     "data": {
      "image/png": "[encoded data removed]",
      "text/plain": [
       "<Figure size 432x288 with 1 Axes>"
      ]
     },
     "metadata": {
      "needs_background": "light"
     },
     "output_type": "display_data"
    },
    {
     "data": {
      "image/png": "[encoded data removed]",
      "text/plain": [
       "<Figure size 432x288 with 1 Axes>"
      ]
     },
     "metadata": {
      "needs_background": "light"
     },
     "output_type": "display_data"
    }
   ],
   "source": [
    "# Compute ROC curve and ROC area for each class\n",
    "fpr = dict()\n",
    "tpr = dict()\n",
    "roc_auc = dict()\n",
    "for i in range(3):\n",
    "    fpr[i], tpr[i], _ = roc_curve(y_test_multi[:, i], y_hat_test_multi[:, i])\n",
    "    roc_auc[i] = auc(fpr[i], tpr[i])\n",
    "\n",
    "# Plot of a ROC curve for a specific class\n",
    "for i, class_ in enumerate(le.classes_):\n",
    "    plt.figure()\n",
    "    plt.plot(fpr[i], tpr[i], label='ROC curve (area = %0.2f)' % roc_auc[i])\n",
    "    plt.plot([0, 1], [0, 1], 'k--')\n",
    "    plt.xlim([0.0, 1.0])\n",
    "    plt.ylim([0.0, 1.05])\n",
    "    plt.xlabel('False Positive Rate')\n",
    "    plt.ylabel('True Positive Rate')\n",
    "    plt.title(f'Receiver operating characteristic for {class_}')\n",
    "    plt.legend(loc=\"lower right\")\n",
    "    plt.show()"
   ]
  },
  {
   "cell_type": "markdown",
   "metadata": {},
   "source": [
    "## Save Model"
   ]
  },
  {
   "cell_type": "code",
   "execution_count": 25,
   "metadata": {
    "ExecuteTime": {
     "end_time": "2020-07-12T00:20:23.444025Z",
     "start_time": "2020-07-12T00:20:23.441108Z"
    }
   },
   "outputs": [],
   "source": [
    "# joblib.dump(logreg, MODEL_PATH+'log_reg_smote.sav')"
   ]
  },
  {
   "cell_type": "markdown",
   "metadata": {},
   "source": [
    "## Summary of Results"
   ]
  },
  {
   "cell_type": "markdown",
   "metadata": {},
   "source": [
    "Compared to the baseline model, the results are mixed.  \n",
    "* Negative\n",
    "    * The overall accuracy went down from 0.73 to 0.60.\n",
    "* Positive\n",
    "    * The mean AUC score improved from 0.67 to 0.71\n",
    "    * Recall is balanced, showing a major increase for the minority class\n",
    "    * the minority class has the highest Recall, which is the most important class when considering what wells to visit"
   ]
  }
 ],
 "metadata": {
  "kernelspec": {
   "display_name": "learn-env",
   "language": "python",
   "name": "learn-env"
  },
  "language_info": {
   "codemirror_mode": {
    "name": "ipython",
    "version": 3
   },
   "file_extension": ".py",
   "mimetype": "text/x-python",
   "name": "python",
   "nbconvert_exporter": "python",
   "pygments_lexer": "ipython3",
   "version": "3.6.9"
  },
  "toc": {
   "base_numbering": 1,
   "nav_menu": {},
   "number_sections": true,
   "sideBar": true,
   "skip_h1_title": false,
   "title_cell": "Table of Contents",
   "title_sidebar": "Contents",
   "toc_cell": false,
   "toc_position": {},
   "toc_section_display": true,
   "toc_window_display": true
  },
  "varInspector": {
   "cols": {
    "lenName": 16,
    "lenType": 16,
    "lenVar": 40
   },
   "kernels_config": {
    "python": {
     "delete_cmd_postfix": "",
     "delete_cmd_prefix": "del ",
     "library": "var_list.py",
     "varRefreshCmd": "print(var_dic_list())"
    },
    "r": {
     "delete_cmd_postfix": ") ",
     "delete_cmd_prefix": "rm(",
     "library": "var_list.r",
     "varRefreshCmd": "cat(var_dic_list()) "
    }
   },
   "types_to_exclude": [
    "module",
    "function",
    "builtin_function_or_method",
    "instance",
    "_Feature"
   ],
   "window_display": false
  }
 },
 "nbformat": 4,
 "nbformat_minor": 2
}
