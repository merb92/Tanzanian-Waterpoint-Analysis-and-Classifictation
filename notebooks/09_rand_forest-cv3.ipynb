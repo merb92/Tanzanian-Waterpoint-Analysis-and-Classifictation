{
 "cells": [
  {
   "cell_type": "markdown",
   "metadata": {
    "cell_id": "e0cd426d-a91f-4198-a538-7b2ca566826c"
   },
   "source": [
    "# Random Forest with SMOTE and Grid Search CV\n",
    "\n",
    "* SMOTE - minority\n",
    "* Include High Cardinality Features\n",
    "* Recall and Accuracy Scores"
   ]
  },
  {
   "cell_type": "markdown",
   "metadata": {
    "cell_id": "56432480-6915-4466-955e-e08aa38a9d1f"
   },
   "source": [
    "# Imports and Constants"
   ]
  },
  {
   "cell_type": "code",
   "execution_count": 1,
   "metadata": {
    "ExecuteTime": {
     "end_time": "2020-07-06T14:56:47.995040Z",
     "start_time": "2020-07-06T14:56:46.623436Z"
    },
    "cell_id": "9aee17c4-ee87-4ecb-b049-8178bfe52a8f"
   },
   "outputs": [],
   "source": [
    "from sklearn.linear_model import LogisticRegression\n",
    "from sklearn.model_selection import train_test_split\n",
    "import pandas as pd\n",
    "import numpy as np\n",
    "from sklearn.preprocessing import StandardScaler\n",
    "from sklearn.compose import ColumnTransformer\n",
    "from sklearn.preprocessing import OneHotEncoder\n",
    "from sklearn.preprocessing import LabelEncoder\n",
    "from sklearn.metrics import confusion_matrix\n",
    "from sklearn.metrics import classification_report\n",
    "from sklearn.metrics import plot_confusion_matrix\n",
    "import matplotlib.pyplot as plt\n",
    "%matplotlib inline\n",
    "import seaborn as sns\n",
    "from sklearn.metrics import roc_curve, auc\n",
    "from sklearn.metrics import roc_auc_score\n",
    "from sklearn.preprocessing import LabelBinarizer\n",
    "from sklearn.multiclass import OneVsRestClassifier\n",
    "import joblib\n",
    "from imblearn.pipeline import Pipeline\n",
    "from imblearn.over_sampling import SMOTE\n",
    "from sklearn.ensemble import RandomForestClassifier\n",
    "from sklearn.model_selection import RandomizedSearchCV\n",
    "from sklearn.metrics import make_scorer, recall_score, accuracy_score, precision_score\n"
   ]
  },
  {
   "cell_type": "code",
   "execution_count": 2,
   "metadata": {
    "ExecuteTime": {
     "end_time": "2020-07-06T14:56:48.001406Z",
     "start_time": "2020-07-06T14:56:47.997651Z"
    },
    "cell_id": "12a7bcb2-dccc-4c26-8bf9-c7755cc0ef66"
   },
   "outputs": [],
   "source": [
    "RANDOM_SEED = 8\n",
    "DATA_PATH = '../data/'\n",
    "MODEL_PATH = '../models/'\n",
    "SAVE_MODEL = True\n",
    "MODEL_FILE_NAME = 'rand_forest_cv3.sav'"
   ]
  },
  {
   "cell_type": "markdown",
   "metadata": {
    "cell_id": "3d304fb0-fb8f-4629-b239-56cc0d8098b9"
   },
   "source": [
    "## Read in Data"
   ]
  },
  {
   "cell_type": "code",
   "execution_count": 3,
   "metadata": {
    "ExecuteTime": {
     "end_time": "2020-07-06T14:56:48.402318Z",
     "start_time": "2020-07-06T14:56:48.004408Z"
    },
    "cell_id": "201a4ae5-768a-4694-8df6-fca03f02f3d7",
    "scrolled": true
   },
   "outputs": [
    {
     "data": {
      "application/vnd.deepnote.dataframe.v2+json": {
       "column_count": 23,
       "columns": [
        {
         "dtype": "object",
         "name": "date_recorded",
         "stats": {
          "categories": [
           {
            "count": 1,
            "name": "2011-03-14"
           },
           {
            "count": 1,
            "name": "2013-03-06"
           },
           {
            "count": 3,
            "name": "3 others"
           }
          ],
          "nan_count": 0,
          "unique_count": 5
         }
        },
        {
         "dtype": "object",
         "name": "funder",
         "stats": {
          "categories": [
           {
            "count": 1,
            "name": "roman"
           },
           {
            "count": 1,
            "name": "grumeti"
           },
           {
            "count": 3,
            "name": "3 others"
           }
          ],
          "nan_count": 0,
          "unique_count": 5
         }
        },
        {
         "dtype": "float64",
         "name": "gps_height",
         "stats": {
          "histogram": [
           {
            "bin_end": 376.6,
            "bin_start": 263,
            "count": 1
           },
           {
            "bin_end": 490.2,
            "bin_start": 376.6,
            "count": 0
           },
           {
            "bin_end": 603.8,
            "bin_start": 490.2,
            "count": 0
           },
           {
            "bin_end": 717.4,
            "bin_start": 603.8,
            "count": 1
           },
           {
            "bin_end": 831,
            "bin_start": 717.4,
            "count": 0
           },
           {
            "bin_end": 944.5999999999999,
            "bin_start": 831,
            "count": 0
           },
           {
            "bin_end": 1058.1999999999998,
            "bin_start": 944.5999999999999,
            "count": 1
           },
           {
            "bin_end": 1171.8,
            "bin_start": 1058.1999999999998,
            "count": 0
           },
           {
            "bin_end": 1285.4,
            "bin_start": 1171.8,
            "count": 0
           },
           {
            "bin_end": 1399,
            "bin_start": 1285.4,
            "count": 2
           }
          ],
          "max": 1399,
          "min": 263,
          "nan_count": 0,
          "unique_count": 5
         }
        },
        {
         "dtype": "object",
         "name": "installer",
         "stats": {
          "categories": [
           {
            "count": 1,
            "name": "roman"
           },
           {
            "count": 1,
            "name": "grumeti"
           },
           {
            "count": 3,
            "name": "3 others"
           }
          ],
          "nan_count": 0,
          "unique_count": 5
         }
        },
        {
         "dtype": "float64",
         "name": "longitude",
         "stats": {
          "histogram": [
           {
            "bin_end": 31.866378127,
            "bin_start": 31.13084671,
            "count": 1
           },
           {
            "bin_end": 32.601909544,
            "bin_start": 31.866378127,
            "count": 0
           },
           {
            "bin_end": 33.337440961,
            "bin_start": 32.601909544,
            "count": 0
           },
           {
            "bin_end": 34.072972378,
            "bin_start": 33.337440961,
            "count": 0
           },
           {
            "bin_end": 34.808503795,
            "bin_start": 34.072972378,
            "count": 1
           },
           {
            "bin_end": 35.544035212,
            "bin_start": 34.808503795,
            "count": 1
           },
           {
            "bin_end": 36.279566629,
            "bin_start": 35.544035212,
            "count": 0
           },
           {
            "bin_end": 37.015098046,
            "bin_start": 36.279566629,
            "count": 0
           },
           {
            "bin_end": 37.750629463,
            "bin_start": 37.015098046,
            "count": 1
           },
           {
            "bin_end": 38.48616088,
            "bin_start": 37.750629463,
            "count": 1
           }
          ],
          "max": 38.48616088,
          "min": 31.13084671,
          "nan_count": 0,
          "unique_count": 5
         }
        },
        {
         "dtype": "float64",
         "name": "latitude",
         "stats": {
          "histogram": [
           {
            "bin_end": -10.222303833,
            "bin_start": -11.15529772,
            "count": 1
           },
           {
            "bin_end": -9.289309946,
            "bin_start": -10.222303833,
            "count": 1
           },
           {
            "bin_end": -8.356316059000001,
            "bin_start": -9.289309946,
            "count": 0
           },
           {
            "bin_end": -7.423322172000001,
            "bin_start": -8.356316059000001,
            "count": 0
           },
           {
            "bin_end": -6.490328285,
            "bin_start": -7.423322172000001,
            "count": 0
           },
           {
            "bin_end": -5.557334398,
            "bin_start": -6.490328285,
            "count": 0
           },
           {
            "bin_end": -4.624340511000001,
            "bin_start": -5.557334398,
            "count": 0
           },
           {
            "bin_end": -3.6913466240000004,
            "bin_start": -4.624340511000001,
            "count": 1
           },
           {
            "bin_end": -2.758352737000001,
            "bin_start": -3.6913466240000004,
            "count": 0
           },
           {
            "bin_end": -1.82535885,
            "bin_start": -2.758352737000001,
            "count": 2
           }
          ],
          "max": -1.82535885,
          "min": -11.15529772,
          "nan_count": 0,
          "unique_count": 5
         }
        },
        {
         "dtype": "int64",
         "name": "num_private",
         "stats": {
          "histogram": [
           {
            "bin_end": -0.4,
            "bin_start": -0.5,
            "count": 0
           },
           {
            "bin_end": -0.3,
            "bin_start": -0.4,
            "count": 0
           },
           {
            "bin_end": -0.19999999999999996,
            "bin_start": -0.3,
            "count": 0
           },
           {
            "bin_end": -0.09999999999999998,
            "bin_start": -0.19999999999999996,
            "count": 0
           },
           {
            "bin_end": 0,
            "bin_start": -0.09999999999999998,
            "count": 0
           },
           {
            "bin_end": 0.10000000000000009,
            "bin_start": 0,
            "count": 5
           },
           {
            "bin_end": 0.20000000000000007,
            "bin_start": 0.10000000000000009,
            "count": 0
           },
           {
            "bin_end": 0.30000000000000004,
            "bin_start": 0.20000000000000007,
            "count": 0
           },
           {
            "bin_end": 0.4,
            "bin_start": 0.30000000000000004,
            "count": 0
           },
           {
            "bin_end": 0.5,
            "bin_start": 0.4,
            "count": 0
           }
          ],
          "max": 0,
          "min": 0,
          "nan_count": 0,
          "unique_count": 1
         }
        },
        {
         "dtype": "object",
         "name": "subvillage",
         "stats": {
          "categories": [
           {
            "count": 1,
            "name": "Mnyusi B"
           },
           {
            "count": 1,
            "name": "Nyamara"
           },
           {
            "count": 3,
            "name": "3 others"
           }
          ],
          "nan_count": 0,
          "unique_count": 5
         }
        },
        {
         "dtype": "object",
         "name": "region",
         "stats": {
          "categories": [
           {
            "count": 1,
            "name": "Iringa"
           },
           {
            "count": 1,
            "name": "Mara"
           },
           {
            "count": 3,
            "name": "3 others"
           }
          ],
          "nan_count": 0,
          "unique_count": 5
         }
        },
        {
         "dtype": "object",
         "name": "lga",
         "stats": {
          "categories": [
           {
            "count": 1,
            "name": "Ludewa"
           },
           {
            "count": 1,
            "name": "Serengeti"
           },
           {
            "count": 3,
            "name": "3 others"
           }
          ],
          "nan_count": 0,
          "unique_count": 5
         }
        },
        {
         "dtype": "object",
         "name": "ward",
         "stats": {
          "categories": [
           {
            "count": 1,
            "name": "Mundindi"
           },
           {
            "count": 1,
            "name": "Natta"
           },
           {
            "count": 3,
            "name": "3 others"
           }
          ],
          "nan_count": 0,
          "unique_count": 5
         }
        },
        {
         "dtype": "float64",
         "name": "population",
         "stats": {
          "histogram": [
           {
            "bin_end": 80.2,
            "bin_start": 58,
            "count": 1
           },
           {
            "bin_end": 102.4,
            "bin_start": 80.2,
            "count": 0
           },
           {
            "bin_end": 124.6,
            "bin_start": 102.4,
            "count": 1
           },
           {
            "bin_end": 146.8,
            "bin_start": 124.6,
            "count": 0
           },
           {
            "bin_end": 169,
            "bin_start": 146.8,
            "count": 1
           },
           {
            "bin_end": 191.2,
            "bin_start": 169,
            "count": 0
           },
           {
            "bin_end": 213.4,
            "bin_start": 191.2,
            "count": 0
           },
           {
            "bin_end": 235.6,
            "bin_start": 213.4,
            "count": 0
           },
           {
            "bin_end": 257.79999999999995,
            "bin_start": 235.6,
            "count": 1
           },
           {
            "bin_end": 280,
            "bin_start": 257.79999999999995,
            "count": 1
           }
          ],
          "max": 280,
          "min": 58,
          "nan_count": 0,
          "unique_count": 5
         }
        },
        {
         "dtype": "bool",
         "name": "public_meeting",
         "stats": {
          "categories": [
           {
            "count": 5,
            "name": "True"
           }
          ],
          "nan_count": 0,
          "unique_count": 1
         }
        },
        {
         "dtype": "bool",
         "name": "permit",
         "stats": {
          "categories": [
           {
            "count": 4,
            "name": "True"
           },
           {
            "count": 1,
            "name": "False"
           }
          ],
          "nan_count": 0,
          "unique_count": 2
         }
        },
        {
         "dtype": "int64",
         "name": "construction_year",
         "stats": {
          "histogram": [
           {
            "bin_end": 1988.4,
            "bin_start": 1986,
            "count": 1
           },
           {
            "bin_end": 1990.8,
            "bin_start": 1988.4,
            "count": 0
           },
           {
            "bin_end": 1993.2,
            "bin_start": 1990.8,
            "count": 0
           },
           {
            "bin_end": 1995.6,
            "bin_start": 1993.2,
            "count": 0
           },
           {
            "bin_end": 1998,
            "bin_start": 1995.6,
            "count": 0
           },
           {
            "bin_end": 2000.4,
            "bin_start": 1998,
            "count": 2
           },
           {
            "bin_end": 2002.8,
            "bin_start": 2000.4,
            "count": 0
           },
           {
            "bin_end": 2005.2,
            "bin_start": 2002.8,
            "count": 0
           },
           {
            "bin_end": 2007.6,
            "bin_start": 2005.2,
            "count": 0
           },
           {
            "bin_end": 2010,
            "bin_start": 2007.6,
            "count": 2
           }
          ],
          "max": 2010,
          "min": 1986,
          "nan_count": 0,
          "unique_count": 5
         }
        },
        {
         "dtype": "object",
         "name": "extraction_type",
         "stats": {
          "categories": [
           {
            "count": 4,
            "name": "gravity"
           },
           {
            "count": 1,
            "name": "submersible"
           }
          ],
          "nan_count": 0,
          "unique_count": 2
         }
        },
        {
         "dtype": "object",
         "name": "management",
         "stats": {
          "categories": [
           {
            "count": 3,
            "name": "vwc"
           },
           {
            "count": 1,
            "name": "wug"
           },
           {
            "count": 1,
            "name": "other"
           }
          ],
          "nan_count": 0,
          "unique_count": 3
         }
        },
        {
         "dtype": "object",
         "name": "payment",
         "stats": {
          "categories": [
           {
            "count": 3,
            "name": "never pay"
           },
           {
            "count": 1,
            "name": "pay annually"
           },
           {
            "count": 1,
            "name": "pay per bucket"
           }
          ],
          "nan_count": 0,
          "unique_count": 3
         }
        },
        {
         "dtype": "object",
         "name": "water_quality",
         "stats": {
          "categories": [
           {
            "count": 5,
            "name": "soft"
           }
          ],
          "nan_count": 0,
          "unique_count": 1
         }
        },
        {
         "dtype": "object",
         "name": "quantity",
         "stats": {
          "categories": [
           {
            "count": 2,
            "name": "enough"
           },
           {
            "count": 1,
            "name": "insufficient"
           },
           {
            "count": 2,
            "name": "2 others"
           }
          ],
          "nan_count": 0,
          "unique_count": 4
         }
        },
        {
         "dtype": "object",
         "name": "source",
         "stats": {
          "categories": [
           {
            "count": 2,
            "name": "rainwater harvesting"
           },
           {
            "count": 1,
            "name": "spring"
           },
           {
            "count": 2,
            "name": "2 others"
           }
          ],
          "nan_count": 0,
          "unique_count": 4
         }
        },
        {
         "dtype": "object",
         "name": "waterpoint_type",
         "stats": {
          "categories": [
           {
            "count": 3,
            "name": "communal standpipe"
           },
           {
            "count": 2,
            "name": "communal standpipe multiple"
           }
          ],
          "nan_count": 0,
          "unique_count": 2
         }
        },
        {
         "dtype": "object",
         "name": "status_group",
         "stats": {
          "categories": [
           {
            "count": 4,
            "name": "functional"
           },
           {
            "count": 1,
            "name": "non functional"
           }
          ],
          "nan_count": 0,
          "unique_count": 2
         }
        }
       ],
       "row_count": 5,
       "rows_bottom": null,
       "rows_top": {
        "0": {
         "construction_year": 1999,
         "date_recorded": "2011-03-14",
         "extraction_type": "gravity",
         "funder": "roman",
         "gps_height": 1390,
         "installer": "roman",
         "latitude": -9.85632177,
         "lga": "Ludewa",
         "longitude": 34.93809275,
         "management": "vwc",
         "num_private": 0,
         "payment": "pay annually",
         "permit": false,
         "population": 109,
         "public_meeting": true,
         "quantity": "enough",
         "region": "Iringa",
         "source": "spring",
         "status_group": "functional",
         "subvillage": "Mnyusi B",
         "ward": "Mundindi",
         "water_quality": "soft",
         "waterpoint_type": "communal standpipe"
        },
        "1": {
         "construction_year": 2010,
         "date_recorded": "2013-03-06",
         "extraction_type": "gravity",
         "funder": "grumeti",
         "gps_height": 1399,
         "installer": "grumeti",
         "latitude": -2.14746569,
         "lga": "Serengeti",
         "longitude": 34.6987661,
         "management": "wug",
         "num_private": 0,
         "payment": "never pay",
         "permit": true,
         "population": 280,
         "public_meeting": true,
         "quantity": "insufficient",
         "region": "Mara",
         "source": "rainwater harvesting",
         "status_group": "functional",
         "subvillage": "Nyamara",
         "ward": "Natta",
         "water_quality": "soft",
         "waterpoint_type": "communal standpipe"
        },
        "2": {
         "construction_year": 2009,
         "date_recorded": "2013-02-25",
         "extraction_type": "gravity",
         "funder": "lottery club",
         "gps_height": 686,
         "installer": "world vision",
         "latitude": -3.82132853,
         "lga": "Simanjiro",
         "longitude": 37.46066446,
         "management": "vwc",
         "num_private": 0,
         "payment": "pay per bucket",
         "permit": true,
         "population": 250,
         "public_meeting": true,
         "quantity": "enough",
         "region": "Manyara",
         "source": "dam",
         "status_group": "functional",
         "subvillage": "Majengo",
         "ward": "Ngorika",
         "water_quality": "soft",
         "waterpoint_type": "communal standpipe multiple"
        },
        "3": {
         "construction_year": 1986,
         "date_recorded": "2013-01-28",
         "extraction_type": "submersible",
         "funder": "unicef",
         "gps_height": 263,
         "installer": "unicef",
         "latitude": -11.15529772,
         "lga": "Nanyumbu",
         "longitude": 38.48616088,
         "management": "vwc",
         "num_private": 0,
         "payment": "never pay",
         "permit": true,
         "population": 58,
         "public_meeting": true,
         "quantity": "dry",
         "region": "Mtwara",
         "source": "machine dbh",
         "status_group": "non functional",
         "subvillage": "Mahakamani",
         "ward": "Nanyumbu",
         "water_quality": "soft",
         "waterpoint_type": "communal standpipe multiple"
        },
        "4": {
         "construction_year": 2000,
         "date_recorded": "2011-07-13",
         "extraction_type": "gravity",
         "funder": "action in a",
         "gps_height": 1018.8218052715802,
         "installer": "artisan",
         "latitude": -1.82535885,
         "lga": "Karagwe",
         "longitude": 31.13084671,
         "management": "other",
         "num_private": 0,
         "payment": "never pay",
         "permit": true,
         "population": 150,
         "public_meeting": true,
         "quantity": "seasonal",
         "region": "Kagera",
         "source": "rainwater harvesting",
         "status_group": "functional",
         "subvillage": "Kyanyamisa",
         "ward": "Nyakasimbi",
         "water_quality": "soft",
         "waterpoint_type": "communal standpipe"
        }
       }
      },
      "text/html": [
       "<div>\n",
       "<style scoped>\n",
       "    .dataframe tbody tr th:only-of-type {\n",
       "        vertical-align: middle;\n",
       "    }\n",
       "\n",
       "    .dataframe tbody tr th {\n",
       "        vertical-align: top;\n",
       "    }\n",
       "\n",
       "    .dataframe thead th {\n",
       "        text-align: right;\n",
       "    }\n",
       "</style>\n",
       "<table border=\"1\" class=\"dataframe\">\n",
       "  <thead>\n",
       "    <tr style=\"text-align: right;\">\n",
       "      <th></th>\n",
       "      <th>date_recorded</th>\n",
       "      <th>funder</th>\n",
       "      <th>gps_height</th>\n",
       "      <th>installer</th>\n",
       "      <th>longitude</th>\n",
       "      <th>latitude</th>\n",
       "      <th>num_private</th>\n",
       "      <th>subvillage</th>\n",
       "      <th>region</th>\n",
       "      <th>lga</th>\n",
       "      <th>...</th>\n",
       "      <th>permit</th>\n",
       "      <th>construction_year</th>\n",
       "      <th>extraction_type</th>\n",
       "      <th>management</th>\n",
       "      <th>payment</th>\n",
       "      <th>water_quality</th>\n",
       "      <th>quantity</th>\n",
       "      <th>source</th>\n",
       "      <th>waterpoint_type</th>\n",
       "      <th>status_group</th>\n",
       "    </tr>\n",
       "  </thead>\n",
       "  <tbody>\n",
       "    <tr>\n",
       "      <th>0</th>\n",
       "      <td>2011-03-14</td>\n",
       "      <td>roman</td>\n",
       "      <td>1390.000000</td>\n",
       "      <td>roman</td>\n",
       "      <td>34.938093</td>\n",
       "      <td>-9.856322</td>\n",
       "      <td>0</td>\n",
       "      <td>Mnyusi B</td>\n",
       "      <td>Iringa</td>\n",
       "      <td>Ludewa</td>\n",
       "      <td>...</td>\n",
       "      <td>False</td>\n",
       "      <td>1999</td>\n",
       "      <td>gravity</td>\n",
       "      <td>vwc</td>\n",
       "      <td>pay annually</td>\n",
       "      <td>soft</td>\n",
       "      <td>enough</td>\n",
       "      <td>spring</td>\n",
       "      <td>communal standpipe</td>\n",
       "      <td>functional</td>\n",
       "    </tr>\n",
       "    <tr>\n",
       "      <th>1</th>\n",
       "      <td>2013-03-06</td>\n",
       "      <td>grumeti</td>\n",
       "      <td>1399.000000</td>\n",
       "      <td>grumeti</td>\n",
       "      <td>34.698766</td>\n",
       "      <td>-2.147466</td>\n",
       "      <td>0</td>\n",
       "      <td>Nyamara</td>\n",
       "      <td>Mara</td>\n",
       "      <td>Serengeti</td>\n",
       "      <td>...</td>\n",
       "      <td>True</td>\n",
       "      <td>2010</td>\n",
       "      <td>gravity</td>\n",
       "      <td>wug</td>\n",
       "      <td>never pay</td>\n",
       "      <td>soft</td>\n",
       "      <td>insufficient</td>\n",
       "      <td>rainwater harvesting</td>\n",
       "      <td>communal standpipe</td>\n",
       "      <td>functional</td>\n",
       "    </tr>\n",
       "    <tr>\n",
       "      <th>2</th>\n",
       "      <td>2013-02-25</td>\n",
       "      <td>lottery club</td>\n",
       "      <td>686.000000</td>\n",
       "      <td>world vision</td>\n",
       "      <td>37.460664</td>\n",
       "      <td>-3.821329</td>\n",
       "      <td>0</td>\n",
       "      <td>Majengo</td>\n",
       "      <td>Manyara</td>\n",
       "      <td>Simanjiro</td>\n",
       "      <td>...</td>\n",
       "      <td>True</td>\n",
       "      <td>2009</td>\n",
       "      <td>gravity</td>\n",
       "      <td>vwc</td>\n",
       "      <td>pay per bucket</td>\n",
       "      <td>soft</td>\n",
       "      <td>enough</td>\n",
       "      <td>dam</td>\n",
       "      <td>communal standpipe multiple</td>\n",
       "      <td>functional</td>\n",
       "    </tr>\n",
       "    <tr>\n",
       "      <th>3</th>\n",
       "      <td>2013-01-28</td>\n",
       "      <td>unicef</td>\n",
       "      <td>263.000000</td>\n",
       "      <td>unicef</td>\n",
       "      <td>38.486161</td>\n",
       "      <td>-11.155298</td>\n",
       "      <td>0</td>\n",
       "      <td>Mahakamani</td>\n",
       "      <td>Mtwara</td>\n",
       "      <td>Nanyumbu</td>\n",
       "      <td>...</td>\n",
       "      <td>True</td>\n",
       "      <td>1986</td>\n",
       "      <td>submersible</td>\n",
       "      <td>vwc</td>\n",
       "      <td>never pay</td>\n",
       "      <td>soft</td>\n",
       "      <td>dry</td>\n",
       "      <td>machine dbh</td>\n",
       "      <td>communal standpipe multiple</td>\n",
       "      <td>non functional</td>\n",
       "    </tr>\n",
       "    <tr>\n",
       "      <th>4</th>\n",
       "      <td>2011-07-13</td>\n",
       "      <td>action in a</td>\n",
       "      <td>1018.821805</td>\n",
       "      <td>artisan</td>\n",
       "      <td>31.130847</td>\n",
       "      <td>-1.825359</td>\n",
       "      <td>0</td>\n",
       "      <td>Kyanyamisa</td>\n",
       "      <td>Kagera</td>\n",
       "      <td>Karagwe</td>\n",
       "      <td>...</td>\n",
       "      <td>True</td>\n",
       "      <td>2000</td>\n",
       "      <td>gravity</td>\n",
       "      <td>other</td>\n",
       "      <td>never pay</td>\n",
       "      <td>soft</td>\n",
       "      <td>seasonal</td>\n",
       "      <td>rainwater harvesting</td>\n",
       "      <td>communal standpipe</td>\n",
       "      <td>functional</td>\n",
       "    </tr>\n",
       "  </tbody>\n",
       "</table>\n",
       "<p>5 rows × 23 columns</p>\n",
       "</div>"
      ],
      "text/plain": [
       "  date_recorded        funder   gps_height     installer  longitude  \\\n",
       "0    2011-03-14         roman  1390.000000         roman  34.938093   \n",
       "1    2013-03-06       grumeti  1399.000000       grumeti  34.698766   \n",
       "2    2013-02-25  lottery club   686.000000  world vision  37.460664   \n",
       "3    2013-01-28        unicef   263.000000        unicef  38.486161   \n",
       "4    2011-07-13   action in a  1018.821805       artisan  31.130847   \n",
       "\n",
       "    latitude  num_private  subvillage   region        lga  ... permit  \\\n",
       "0  -9.856322            0    Mnyusi B   Iringa     Ludewa  ...  False   \n",
       "1  -2.147466            0     Nyamara     Mara  Serengeti  ...   True   \n",
       "2  -3.821329            0     Majengo  Manyara  Simanjiro  ...   True   \n",
       "3 -11.155298            0  Mahakamani   Mtwara   Nanyumbu  ...   True   \n",
       "4  -1.825359            0  Kyanyamisa   Kagera    Karagwe  ...   True   \n",
       "\n",
       "   construction_year  extraction_type  management         payment  \\\n",
       "0               1999          gravity         vwc    pay annually   \n",
       "1               2010          gravity         wug       never pay   \n",
       "2               2009          gravity         vwc  pay per bucket   \n",
       "3               1986      submersible         vwc       never pay   \n",
       "4               2000          gravity       other       never pay   \n",
       "\n",
       "  water_quality      quantity                source  \\\n",
       "0          soft        enough                spring   \n",
       "1          soft  insufficient  rainwater harvesting   \n",
       "2          soft        enough                   dam   \n",
       "3          soft           dry           machine dbh   \n",
       "4          soft      seasonal  rainwater harvesting   \n",
       "\n",
       "               waterpoint_type    status_group  \n",
       "0           communal standpipe      functional  \n",
       "1           communal standpipe      functional  \n",
       "2  communal standpipe multiple      functional  \n",
       "3  communal standpipe multiple  non functional  \n",
       "4           communal standpipe      functional  \n",
       "\n",
       "[5 rows x 23 columns]"
      ]
     },
     "execution_count": 3,
     "metadata": {},
     "output_type": "execute_result"
    }
   ],
   "source": [
    "df = pd.read_csv(DATA_PATH+'clean_water_well_data.csv')\n",
    "df.head()"
   ]
  },
  {
   "cell_type": "markdown",
   "metadata": {
    "cell_id": "1226ea65-2169-4dae-83d7-ad12360dd7c3"
   },
   "source": [
    "## Split data into features and labels"
   ]
  },
  {
   "cell_type": "code",
   "execution_count": 4,
   "metadata": {
    "ExecuteTime": {
     "end_time": "2020-07-06T14:56:48.422153Z",
     "start_time": "2020-07-06T14:56:48.404927Z"
    },
    "cell_id": "2a0c0aae-04e7-48ae-aec5-da9e9dde81e3"
   },
   "outputs": [],
   "source": [
    "y = df.status_group\n",
    "X = df.drop('status_group', axis=1)"
   ]
  },
  {
   "cell_type": "markdown",
   "metadata": {
    "cell_id": "c3c21e23-a720-4ec7-b005-abfa42917efb"
   },
   "source": [
    "## Train / Test Split"
   ]
  },
  {
   "cell_type": "code",
   "execution_count": 5,
   "metadata": {
    "ExecuteTime": {
     "end_time": "2020-07-06T14:56:48.478467Z",
     "start_time": "2020-07-06T14:56:48.424432Z"
    },
    "cell_id": "a2838416-59b5-4605-a2f6-da58a9f20b78"
   },
   "outputs": [],
   "source": [
    "X_train, X_test, y_train, y_test = train_test_split(X, y, random_state=RANDOM_SEED)"
   ]
  },
  {
   "cell_type": "markdown",
   "metadata": {
    "cell_id": "cae77c94-e07a-473a-b82f-ffc0422ddfef"
   },
   "source": [
    "## Define Pipeline"
   ]
  },
  {
   "cell_type": "code",
   "execution_count": 6,
   "metadata": {
    "ExecuteTime": {
     "end_time": "2020-07-06T14:56:48.484479Z",
     "start_time": "2020-07-06T14:56:48.480555Z"
    },
    "cell_id": "b7c5df24-e862-46e0-96b5-293a008f7010"
   },
   "outputs": [],
   "source": [
    "# high cardinality features\n",
    "high_card = ['funder', 'installer', 'lga', 'subvillage', 'ward']\n",
    "\n",
    "# not useful features\n",
    "not_useful = ['date_recorded', 'longitude', 'latitude']\n",
    "\n",
    "unwanted = high_card + not_useful"
   ]
  },
  {
   "cell_type": "code",
   "execution_count": 7,
   "metadata": {
    "ExecuteTime": {
     "end_time": "2020-07-06T14:56:48.490109Z",
     "start_time": "2020-07-06T14:56:48.486753Z"
    },
    "cell_id": "c728abc2-bee1-496f-b262-fd99c60ece09"
   },
   "outputs": [],
   "source": [
    "cols_to_scale = ['gps_height', 'num_private', 'population', 'construction_year']"
   ]
  },
  {
   "cell_type": "code",
   "execution_count": 8,
   "metadata": {
    "ExecuteTime": {
     "end_time": "2020-07-06T14:56:48.511870Z",
     "start_time": "2020-07-06T14:56:48.494372Z"
    },
    "cell_id": "f24056f6-68f5-4e39-8de8-e5df2043e737"
   },
   "outputs": [],
   "source": [
    "numeric_transformer = Pipeline(steps=[('scaler', StandardScaler())])"
   ]
  },
  {
   "cell_type": "code",
   "execution_count": 9,
   "metadata": {
    "ExecuteTime": {
     "end_time": "2020-07-06T14:56:48.520213Z",
     "start_time": "2020-07-06T14:56:48.515149Z"
    },
    "cell_id": "3250b868-25c1-4ab8-93ed-7c2dc255b17a"
   },
   "outputs": [],
   "source": [
    "# categorical_features = list(X.select_dtypes(include=['bool', 'object']).columns)\n",
    "categorical_features = ['region',\n",
    "                         'public_meeting',\n",
    "                         'permit',\n",
    "                         'extraction_type',\n",
    "                         'management',\n",
    "                         'payment',\n",
    "                         'water_quality',\n",
    "                         'quantity',\n",
    "                         'source',\n",
    "                         'waterpoint_type'] + high_card\n",
    "categorical_transformer = Pipeline(steps=[('onehot', OneHotEncoder(handle_unknown='ignore'))])"
   ]
  },
  {
   "cell_type": "code",
   "execution_count": 10,
   "metadata": {
    "ExecuteTime": {
     "end_time": "2020-07-06T14:56:48.530146Z",
     "start_time": "2020-07-06T14:56:48.522465Z"
    },
    "cell_id": "94058b46-7519-425f-905c-a689c7727fa2"
   },
   "outputs": [],
   "source": [
    "preprocessor = ColumnTransformer(remainder='drop',\n",
    "                                 transformers=[('num', numeric_transformer, cols_to_scale),\n",
    "                                               ('cat', categorical_transformer, categorical_features)])"
   ]
  },
  {
   "cell_type": "code",
   "execution_count": 11,
   "metadata": {
    "ExecuteTime": {
     "end_time": "2020-07-06T14:56:48.538086Z",
     "start_time": "2020-07-06T14:56:48.532581Z"
    },
    "cell_id": "52a0ec3a-263d-4f5b-8e1b-8aa405f9c181"
   },
   "outputs": [],
   "source": [
    "pipe = Pipeline(steps=[('preprocessor', preprocessor),\n",
    "                         ('sampling', SMOTE(random_state=RANDOM_SEED, n_jobs=-1, sampling_strategy='minority')),\n",
    "                        ('classifier', RandomForestClassifier(random_state=RANDOM_SEED, n_jobs=-1))\n",
    "                        ])"
   ]
  },
  {
   "cell_type": "markdown",
   "metadata": {
    "cell_id": "5c9eef44-2d36-47f5-ae59-2a8dcfe66755"
   },
   "source": [
    "## Encode Labels"
   ]
  },
  {
   "cell_type": "code",
   "execution_count": 12,
   "metadata": {
    "ExecuteTime": {
     "end_time": "2020-07-06T14:56:48.543604Z",
     "start_time": "2020-07-06T14:56:48.540365Z"
    },
    "cell_id": "f41de3b2-c688-4663-9cfa-f27a1aa0d44f"
   },
   "outputs": [],
   "source": [
    "le = LabelEncoder()"
   ]
  },
  {
   "cell_type": "markdown",
   "metadata": {
    "cell_id": "da9982a9-0c0e-417e-81a6-b08f0c3e345a"
   },
   "source": [
    "### Training Features"
   ]
  },
  {
   "cell_type": "code",
   "execution_count": 13,
   "metadata": {
    "ExecuteTime": {
     "end_time": "2020-07-06T14:56:48.562177Z",
     "start_time": "2020-07-06T14:56:48.545845Z"
    },
    "cell_id": "4aa21a8f-4249-45f6-8067-166c14ca82da"
   },
   "outputs": [],
   "source": [
    "y_train_ready = le.fit_transform(y_train)"
   ]
  },
  {
   "cell_type": "markdown",
   "metadata": {
    "cell_id": "ddd46361-0a63-4ded-8596-902c9eae09da"
   },
   "source": [
    "### Test Features"
   ]
  },
  {
   "cell_type": "code",
   "execution_count": 14,
   "metadata": {
    "ExecuteTime": {
     "end_time": "2020-07-06T14:56:48.580496Z",
     "start_time": "2020-07-06T14:56:48.564513Z"
    },
    "cell_id": "758e381d-e8fb-4ab8-a794-de9602157fbd"
   },
   "outputs": [],
   "source": [
    "y_test_ready = le.transform(y_test)"
   ]
  },
  {
   "cell_type": "markdown",
   "metadata": {
    "cell_id": "a5fd6657-9bde-4f27-8ebf-e8602e6350b1"
   },
   "source": [
    "## Random Forest Classifier Model"
   ]
  },
  {
   "cell_type": "markdown",
   "metadata": {
    "cell_id": "134efa33-9682-4690-ad4a-01bf18857331"
   },
   "source": [
    "### Fit The Model"
   ]
  },
  {
   "cell_type": "code",
   "execution_count": 15,
   "metadata": {
    "ExecuteTime": {
     "start_time": "2020-07-06T14:56:46.659Z"
    },
    "cell_id": "0e67a2f8-551e-4f41-951c-5e33b54e8102"
   },
   "outputs": [],
   "source": [
    "# Number of trees in random forest\n",
    "n_estimators = [int(x) for x in np.linspace(start = 200, stop = 2000, num = 10)]\n",
    "# Number of features to consider at every split\n",
    "num_features = int(np.sqrt(20000))\n",
    "max_features = [int(x) for x in np.linspace(start=num_features-5, stop=num_features+5, num=10)]\n",
    "# Maximum number of levels in tree\n",
    "max_depth = [int(x) for x in np.linspace(20, 45, num = 6)]\n",
    "max_depth.append(None)\n",
    "# Minimum number of samples required to split a node\n",
    "min_samples_split = [2, 5, 10]\n",
    "# Minimum number of samples required at each leaf node\n",
    "min_samples_leaf = [2, 4, 6]\n",
    "\n",
    "\n",
    "# Create the random grid\n",
    "parameters = [{'classifier__n_estimators': n_estimators,\n",
    "              'classifier__max_features': max_features,\n",
    "              'classifier__max_depth': max_depth,\n",
    "              'classifier__min_samples_split': min_samples_split,\n",
    "              'classifier__min_samples_leaf': min_samples_leaf}]\n",
    "\n",
    "scorers = {\n",
    "    'recall_score': make_scorer(recall_score, average='weighted')\n",
    "     , 'accuracy_score': make_scorer(accuracy_score)\n",
    "}\n",
    "\n",
    "gridsearch = RandomizedSearchCV(pipe, parameters, cv=5, random_state=RANDOM_SEED, \n",
    "                                scoring=scorers, n_jobs=-1, refit='recall_score',\n",
    "                               n_iter=5)\n",
    "clf = gridsearch.fit(X_train, y_train_ready)"
   ]
  },
  {
   "cell_type": "markdown",
   "metadata": {
    "cell_id": "84be0134-0c59-4602-ad2d-04488992d6a4"
   },
   "source": [
    "### Get Model Predictions"
   ]
  },
  {
   "cell_type": "code",
   "execution_count": 16,
   "metadata": {
    "ExecuteTime": {
     "start_time": "2020-07-06T14:56:46.662Z"
    },
    "cell_id": "3aa0865e-55b0-47e1-81ad-6572bbc3c6d1"
   },
   "outputs": [],
   "source": [
    "y_hat_train = clf.predict(X_train)"
   ]
  },
  {
   "cell_type": "code",
   "execution_count": 17,
   "metadata": {
    "ExecuteTime": {
     "start_time": "2020-07-06T14:56:46.664Z"
    },
    "cell_id": "a8baf48a-8e45-4876-b0b6-90017ffb5888"
   },
   "outputs": [],
   "source": [
    "y_hat_test = clf.predict(X_test)"
   ]
  },
  {
   "cell_type": "markdown",
   "metadata": {
    "cell_id": "d20cb1a0-a7dc-46d5-868f-c0e031559fb8"
   },
   "source": [
    "### Classification Reports"
   ]
  },
  {
   "cell_type": "code",
   "execution_count": 18,
   "metadata": {
    "ExecuteTime": {
     "start_time": "2020-07-06T14:56:46.666Z"
    },
    "cell_id": "4d7403b2-1090-4c74-8cf3-a93bdd37f140"
   },
   "outputs": [
    {
     "name": "stdout",
     "output_type": "stream",
     "text": [
      "                         precision    recall  f1-score   support\n",
      "\n",
      "             functional       0.75      0.81      0.78     24140\n",
      "functional needs repair       0.28      0.72      0.40      3210\n",
      "         non functional       0.91      0.54      0.67     17069\n",
      "\n",
      "               accuracy                           0.70     44419\n",
      "              macro avg       0.65      0.69      0.62     44419\n",
      "           weighted avg       0.78      0.70      0.71     44419\n",
      "\n"
     ]
    }
   ],
   "source": [
    "print(classification_report(y_train_ready, y_hat_train, target_names=le.classes_))"
   ]
  },
  {
   "cell_type": "code",
   "execution_count": 19,
   "metadata": {
    "ExecuteTime": {
     "start_time": "2020-07-06T14:56:46.669Z"
    },
    "cell_id": "5ba8be31-272c-4d81-8907-5947341c7ec9"
   },
   "outputs": [
    {
     "name": "stdout",
     "output_type": "stream",
     "text": [
      "                         precision    recall  f1-score   support\n",
      "\n",
      "             functional       0.73      0.79      0.76      8031\n",
      "functional needs repair       0.25      0.65      0.36      1084\n",
      "         non functional       0.89      0.52      0.66      5692\n",
      "\n",
      "               accuracy                           0.68     14807\n",
      "              macro avg       0.63      0.66      0.59     14807\n",
      "           weighted avg       0.76      0.68      0.69     14807\n",
      "\n"
     ]
    }
   ],
   "source": [
    "print(classification_report(y_test_ready, y_hat_test, target_names=le.classes_))"
   ]
  },
  {
   "cell_type": "markdown",
   "metadata": {
    "cell_id": "fd332ea0-22aa-43be-8ab9-757ebd4d9409"
   },
   "source": [
    "### Confusion Matrices"
   ]
  },
  {
   "cell_type": "code",
   "execution_count": 20,
   "metadata": {
    "ExecuteTime": {
     "start_time": "2020-07-06T14:56:46.671Z"
    },
    "cell_id": "5960c445-65cc-41b4-b415-7acbe3f32e36"
   },
   "outputs": [
    {
     "data": {
      "image/png": "[encoded data removed]",
      "text/plain": [
       "<Figure size 432x288 with 2 Axes>"
      ]
     },
     "metadata": {
      "needs_background": "light"
     },
     "output_type": "display_data"
    }
   ],
   "source": [
    "matrix = plot_confusion_matrix(clf, X_test, y_test_ready,\n",
    "                            display_labels=le.classes_,\n",
    "                            cmap=plt.cm.Blues,\n",
    "                            xticks_rotation=70)\n",
    "matrix.ax_.set_title('Confustion Matrix, without Normalization')\n",
    "\n",
    "plt.show()"
   ]
  },
  {
   "cell_type": "code",
   "execution_count": 21,
   "metadata": {
    "ExecuteTime": {
     "start_time": "2020-07-06T14:56:46.673Z"
    },
    "cell_id": "f42a64f4-2306-4f15-9568-ac5e3dd13526"
   },
   "outputs": [
    {
     "data": {
      "image/png": "[encoded data removed]",
      "text/plain": [
       "<Figure size 432x288 with 2 Axes>"
      ]
     },
     "metadata": {
      "needs_background": "light"
     },
     "output_type": "display_data"
    }
   ],
   "source": [
    "matrix_norm = plot_confusion_matrix(clf, X_test, y_test_ready,\n",
    "                                   display_labels=le.classes_,\n",
    "                                   cmap=plt.cm.Blues,\n",
    "                                   normalize='true',\n",
    "                                   xticks_rotation=70)\n",
    "matrix_norm.ax_.set_title('Normalized Confustion Matrix')\n",
    "\n",
    "plt.show()"
   ]
  },
  {
   "cell_type": "markdown",
   "metadata": {
    "cell_id": "32e1cafd-a864-4ace-96b3-d8c58ba76fd4"
   },
   "source": [
    "### Compute Multiclass AUC Score"
   ]
  },
  {
   "cell_type": "code",
   "execution_count": 35,
   "metadata": {
    "ExecuteTime": {
     "start_time": "2020-07-06T14:56:46.676Z"
    },
    "cell_id": "673514b9-13be-4936-a446-0ace48bfaf8f"
   },
   "outputs": [],
   "source": [
    "# convert labels from shape n, to n,3\n",
    "lb = LabelBinarizer()\n",
    "lb.fit(y_test_ready)\n",
    "y_test_multi = lb.transform(y_test_ready)\n",
    "y_hat_test_multi = clf.predict_proba(X_test)\n",
    "# y_hat_test_multi = lb.transform(clf.predict(X_test))"
   ]
  },
  {
   "cell_type": "code",
   "execution_count": 36,
   "metadata": {
    "ExecuteTime": {
     "start_time": "2020-07-06T14:56:46.678Z"
    },
    "cell_id": "86fd039c-2aa4-435b-9609-feb03fc12cbd",
    "scrolled": true
   },
   "outputs": [
    {
     "data": {
      "text/plain": [
       "0.8375900323388823"
      ]
     },
     "execution_count": 36,
     "metadata": {},
     "output_type": "execute_result"
    }
   ],
   "source": [
    "roc_auc_score(y_test_ready, y_hat_test_multi, multi_class='ovr')"
   ]
  },
  {
   "cell_type": "markdown",
   "metadata": {
    "cell_id": "695a64e7-cd1e-4378-aa94-029b53b78c54"
   },
   "source": [
    "### Multiclass ROC Curves"
   ]
  },
  {
   "cell_type": "code",
   "execution_count": 37,
   "metadata": {
    "ExecuteTime": {
     "start_time": "2020-07-06T14:56:46.680Z"
    },
    "cell_id": "e30ae4d9-3518-420d-b62b-96858ecc883f"
   },
   "outputs": [
    {
     "data": {
      "image/png": "[encoded data removed]",
      "text/plain": [
       "<Figure size 432x288 with 1 Axes>"
      ]
     },
     "metadata": {
      "needs_background": "light"
     },
     "output_type": "display_data"
    },
    {
     "data": {
      "image/png": "[encoded data removed]",
      "text/plain": [
       "<Figure size 432x288 with 1 Axes>"
      ]
     },
     "metadata": {
      "needs_background": "light"
     },
     "output_type": "display_data"
    },
    {
     "data": {
      "image/png": "[encoded data removed]",
      "text/plain": [
       "<Figure size 432x288 with 1 Axes>"
      ]
     },
     "metadata": {
      "needs_background": "light"
     },
     "output_type": "display_data"
    }
   ],
   "source": [
    "# Compute ROC curve and ROC area for each class\n",
    "fpr = dict()\n",
    "tpr = dict()\n",
    "roc_auc = dict()\n",
    "for i in range(3):\n",
    "    fpr[i], tpr[i], _ = roc_curve(y_test_multi[:, i], y_hat_test_multi[:, i])\n",
    "    roc_auc[i] = auc(fpr[i], tpr[i])\n",
    "\n",
    "# Plot of a ROC curve for a specific class\n",
    "for i, class_ in enumerate(le.classes_):\n",
    "    plt.figure()\n",
    "    plt.plot(fpr[i], tpr[i], label='ROC curve (area = %0.2f)' % roc_auc[i])\n",
    "    plt.plot([0, 1], [0, 1], 'k--')\n",
    "    plt.xlim([0.0, 1.0])\n",
    "    plt.ylim([0.0, 1.05])\n",
    "    plt.xlabel('False Positive Rate')\n",
    "    plt.ylabel('True Positive Rate')\n",
    "    plt.title(f'Receiver operating characteristic for {class_}')\n",
    "    plt.legend(loc=\"lower right\")\n",
    "    plt.show()"
   ]
  },
  {
   "cell_type": "markdown",
   "metadata": {
    "cell_id": "e92699d6-b06e-4b87-8377-90d0e26089a1"
   },
   "source": [
    "## Save Model"
   ]
  },
  {
   "cell_type": "code",
   "execution_count": 25,
   "metadata": {
    "ExecuteTime": {
     "start_time": "2020-07-06T14:56:46.684Z"
    },
    "cell_id": "fb2bffd3-3422-47f5-80bb-3631ad881563"
   },
   "outputs": [],
   "source": [
    "if SAVE_MODEL:\n",
    "    joblib.dump(clf, MODEL_PATH+MODEL_FILE_NAME)"
   ]
  },
  {
   "cell_type": "markdown",
   "metadata": {
    "cell_id": "ef5bdd91-cdc3-4f9c-a487-4728ff560b36"
   },
   "source": [
    "## Summary of Results"
   ]
  },
  {
   "cell_type": "markdown",
   "metadata": {
    "cell_id": "726b64af-5f1d-4b33-9c6c-4e019c26a8df"
   },
   "source": []
  },
  {
   "cell_type": "code",
   "execution_count": 26,
   "metadata": {
    "cell_id": "b67be836-c10d-40ac-bd95-85b0a9749aaf",
    "tags": []
   },
   "outputs": [],
   "source": [
    "feature_importances = clf.best_estimator_[2].feature_importances_"
   ]
  },
  {
   "cell_type": "code",
   "execution_count": 27,
   "metadata": {
    "cell_id": "3194e417-2b37-4542-9163-8fe95819e7da",
    "tags": []
   },
   "outputs": [],
   "source": [
    "cats = clf.best_estimator_[0].transformers_[1][1]['onehot'].get_feature_names()"
   ]
  },
  {
   "cell_type": "code",
   "execution_count": 28,
   "metadata": {
    "cell_id": "4aa540c1-6890-40ee-976f-7da599b3bf29",
    "tags": []
   },
   "outputs": [],
   "source": [
    "cols = cols_to_scale + list(cats)"
   ]
  },
  {
   "cell_type": "code",
   "execution_count": 29,
   "metadata": {
    "cell_id": "77010247-c0e9-4a73-9ca1-21d50cd909ce",
    "tags": []
   },
   "outputs": [],
   "source": [
    "feature_importances_df = pd.DataFrame(feature_importances, index=cols, columns=['importance']).sort_values('importance', ascending=False)"
   ]
  },
  {
   "cell_type": "code",
   "execution_count": 30,
   "metadata": {
    "cell_id": "9706766a-69e3-4160-8d1d-3319b5a0bca0",
    "tags": []
   },
   "outputs": [
    {
     "data": {
      "application/vnd.deepnote.dataframe.v2+json": {
       "column_count": 1,
       "columns": [
        {
         "dtype": "float64",
         "name": "importance",
         "stats": {
          "histogram": [
           {
            "bin_end": 0.019721410719895128,
            "bin_start": 0.015089668118354412,
            "count": 5
           },
           {
            "bin_end": 0.024353153321435846,
            "bin_start": 0.019721410719895128,
            "count": 1
           },
           {
            "bin_end": 0.02898489592297656,
            "bin_start": 0.024353153321435846,
            "count": 1
           },
           {
            "bin_end": 0.033616638524517274,
            "bin_start": 0.02898489592297656,
            "count": 2
           },
           {
            "bin_end": 0.03824838112605799,
            "bin_start": 0.033616638524517274,
            "count": 0
           },
           {
            "bin_end": 0.04288012372759871,
            "bin_start": 0.03824838112605799,
            "count": 0
           },
           {
            "bin_end": 0.047511866329139424,
            "bin_start": 0.04288012372759871,
            "count": 0
           },
           {
            "bin_end": 0.05214360893068014,
            "bin_start": 0.047511866329139424,
            "count": 0
           },
           {
            "bin_end": 0.05677535153222085,
            "bin_start": 0.05214360893068014,
            "count": 0
           },
           {
            "bin_end": 0.061407094133761574,
            "bin_start": 0.05677535153222085,
            "count": 1
           }
          ],
          "max": 0.061407094133761574,
          "min": 0.015089668118354412,
          "nan_count": 0,
          "unique_count": 10
         }
        }
       ],
       "row_count": 10,
       "rows_bottom": null,
       "rows_top": {
        "construction_year": {
         "importance": 0.02126054047478305
        },
        "gps_height": {
         "importance": 0.015089668118354412
        },
        "x12_Bariadi": {
         "importance": 0.016649475611806918
        },
        "x3_gravity": {
         "importance": 0.018826910891913316
        },
        "x3_other": {
         "importance": 0.03050451263071688
        },
        "x5_never pay": {
         "importance": 0.017999860697659173
        },
        "x7_dry": {
         "importance": 0.061407094133761574
        },
        "x7_enough": {
         "importance": 0.027137333404266415
        },
        "x7_insufficient": {
         "importance": 0.016740418338863982
        },
        "x9_other": {
         "importance": 0.03139555225038083
        }
       }
      },
      "text/html": [
       "<div>\n",
       "<style scoped>\n",
       "    .dataframe tbody tr th:only-of-type {\n",
       "        vertical-align: middle;\n",
       "    }\n",
       "\n",
       "    .dataframe tbody tr th {\n",
       "        vertical-align: top;\n",
       "    }\n",
       "\n",
       "    .dataframe thead th {\n",
       "        text-align: right;\n",
       "    }\n",
       "</style>\n",
       "<table border=\"1\" class=\"dataframe\">\n",
       "  <thead>\n",
       "    <tr style=\"text-align: right;\">\n",
       "      <th></th>\n",
       "      <th>importance</th>\n",
       "    </tr>\n",
       "  </thead>\n",
       "  <tbody>\n",
       "    <tr>\n",
       "      <th>x7_dry</th>\n",
       "      <td>0.061407</td>\n",
       "    </tr>\n",
       "    <tr>\n",
       "      <th>x9_other</th>\n",
       "      <td>0.031396</td>\n",
       "    </tr>\n",
       "    <tr>\n",
       "      <th>x3_other</th>\n",
       "      <td>0.030505</td>\n",
       "    </tr>\n",
       "    <tr>\n",
       "      <th>x7_enough</th>\n",
       "      <td>0.027137</td>\n",
       "    </tr>\n",
       "    <tr>\n",
       "      <th>construction_year</th>\n",
       "      <td>0.021261</td>\n",
       "    </tr>\n",
       "    <tr>\n",
       "      <th>x3_gravity</th>\n",
       "      <td>0.018827</td>\n",
       "    </tr>\n",
       "    <tr>\n",
       "      <th>x5_never pay</th>\n",
       "      <td>0.018000</td>\n",
       "    </tr>\n",
       "    <tr>\n",
       "      <th>x7_insufficient</th>\n",
       "      <td>0.016740</td>\n",
       "    </tr>\n",
       "    <tr>\n",
       "      <th>x12_Bariadi</th>\n",
       "      <td>0.016649</td>\n",
       "    </tr>\n",
       "    <tr>\n",
       "      <th>gps_height</th>\n",
       "      <td>0.015090</td>\n",
       "    </tr>\n",
       "  </tbody>\n",
       "</table>\n",
       "</div>"
      ],
      "text/plain": [
       "                   importance\n",
       "x7_dry               0.061407\n",
       "x9_other             0.031396\n",
       "x3_other             0.030505\n",
       "x7_enough            0.027137\n",
       "construction_year    0.021261\n",
       "x3_gravity           0.018827\n",
       "x5_never pay         0.018000\n",
       "x7_insufficient      0.016740\n",
       "x12_Bariadi          0.016649\n",
       "gps_height           0.015090"
      ]
     },
     "execution_count": 30,
     "metadata": {},
     "output_type": "execute_result"
    }
   ],
   "source": [
    "feature_importances_df.head(10)"
   ]
  },
  {
   "cell_type": "code",
   "execution_count": 31,
   "metadata": {
    "cell_id": "3e1eb823-9ce3-4c79-b620-59a10d72bd89",
    "tags": []
   },
   "outputs": [
    {
     "data": {
      "text/plain": [
       "Index(['date_recorded', 'funder', 'gps_height', 'installer', 'longitude',\n",
       "       'latitude', 'num_private', 'subvillage', 'region', 'lga', 'ward',\n",
       "       'population', 'public_meeting', 'permit', 'construction_year',\n",
       "       'extraction_type', 'management', 'payment', 'water_quality', 'quantity',\n",
       "       'source', 'waterpoint_type'],\n",
       "      dtype='object')"
      ]
     },
     "execution_count": 31,
     "metadata": {},
     "output_type": "execute_result"
    }
   ],
   "source": [
    "X_train.columns"
   ]
  },
  {
   "cell_type": "code",
   "execution_count": 32,
   "metadata": {
    "cell_id": "9ed0378e-c003-4258-82b0-0ebea6db77ab",
    "tags": []
   },
   "outputs": [
    {
     "data": {
      "text/plain": [
       "{'mean_fit_time': array([424.1243999 , 221.74707994, 143.53949933, 246.19199457,\n",
       "         78.96794844]),\n",
       " 'std_fit_time': array([ 8.14900846, 19.30465703, 21.25487836, 26.50505407, 25.46286068]),\n",
       " 'mean_score_time': array([8.35156784, 6.18499932, 5.13263764, 9.35326672, 2.2492857 ]),\n",
       " 'std_score_time': array([1.09502425, 1.03673921, 0.74456331, 3.50981915, 0.76383622]),\n",
       " 'param_classifier__n_estimators': masked_array(data=[1600, 1000, 800, 2000, 400],\n",
       "              mask=[False, False, False, False, False],\n",
       "        fill_value='?',\n",
       "             dtype=object),\n",
       " 'param_classifier__min_samples_split': masked_array(data=[5, 5, 10, 2, 10],\n",
       "              mask=[False, False, False, False, False],\n",
       "        fill_value='?',\n",
       "             dtype=object),\n",
       " 'param_classifier__min_samples_leaf': masked_array(data=[4, 2, 4, 6, 2],\n",
       "              mask=[False, False, False, False, False],\n",
       "        fill_value='?',\n",
       "             dtype=object),\n",
       " 'param_classifier__max_features': masked_array(data=[136, 141, 138, 142, 140],\n",
       "              mask=[False, False, False, False, False],\n",
       "        fill_value='?',\n",
       "             dtype=object),\n",
       " 'param_classifier__max_depth': masked_array(data=[45, 25, 30, 30, 30],\n",
       "              mask=[False, False, False, False, False],\n",
       "        fill_value='?',\n",
       "             dtype=object),\n",
       " 'params': [{'classifier__n_estimators': 1600,\n",
       "   'classifier__min_samples_split': 5,\n",
       "   'classifier__min_samples_leaf': 4,\n",
       "   'classifier__max_features': 136,\n",
       "   'classifier__max_depth': 45},\n",
       "  {'classifier__n_estimators': 1000,\n",
       "   'classifier__min_samples_split': 5,\n",
       "   'classifier__min_samples_leaf': 2,\n",
       "   'classifier__max_features': 141,\n",
       "   'classifier__max_depth': 25},\n",
       "  {'classifier__n_estimators': 800,\n",
       "   'classifier__min_samples_split': 10,\n",
       "   'classifier__min_samples_leaf': 4,\n",
       "   'classifier__max_features': 138,\n",
       "   'classifier__max_depth': 30},\n",
       "  {'classifier__n_estimators': 2000,\n",
       "   'classifier__min_samples_split': 2,\n",
       "   'classifier__min_samples_leaf': 6,\n",
       "   'classifier__max_features': 142,\n",
       "   'classifier__max_depth': 30},\n",
       "  {'classifier__n_estimators': 400,\n",
       "   'classifier__min_samples_split': 10,\n",
       "   'classifier__min_samples_leaf': 2,\n",
       "   'classifier__max_features': 140,\n",
       "   'classifier__max_depth': 30}],\n",
       " 'split0_test_recall_score': array([0.68628996, 0.66287708, 0.66231427, 0.65679874, 0.67694732]),\n",
       " 'split1_test_recall_score': array([0.6979964 , 0.6710941 , 0.67458352, 0.66749212, 0.68955425]),\n",
       " 'split2_test_recall_score': array([0.69191805, 0.66985592, 0.67030617, 0.6640027 , 0.68167492]),\n",
       " 'split3_test_recall_score': array([0.68730302, 0.66422783, 0.66422783, 0.66220171, 0.68009905]),\n",
       " 'split4_test_recall_score': array([0.69537318, 0.66981875, 0.67297084, 0.66779241, 0.68546662]),\n",
       " 'mean_test_recall_score': array([0.69177612, 0.66757474, 0.66888053, 0.66365754, 0.68274843]),\n",
       " 'std_test_recall_score': array([0.00451126, 0.0033435 , 0.00481769, 0.00402698, 0.00437109]),\n",
       " 'rank_test_recall_score': array([1, 4, 3, 5, 2], dtype=int32),\n",
       " 'split0_test_accuracy_score': array([0.68628996, 0.66287708, 0.66231427, 0.65679874, 0.67694732]),\n",
       " 'split1_test_accuracy_score': array([0.6979964 , 0.6710941 , 0.67458352, 0.66749212, 0.68955425]),\n",
       " 'split2_test_accuracy_score': array([0.69191805, 0.66985592, 0.67030617, 0.6640027 , 0.68167492]),\n",
       " 'split3_test_accuracy_score': array([0.68730302, 0.66422783, 0.66422783, 0.66220171, 0.68009905]),\n",
       " 'split4_test_accuracy_score': array([0.69537318, 0.66981875, 0.67297084, 0.66779241, 0.68546662]),\n",
       " 'mean_test_accuracy_score': array([0.69177612, 0.66757474, 0.66888053, 0.66365754, 0.68274843]),\n",
       " 'std_test_accuracy_score': array([0.00451126, 0.0033435 , 0.00481769, 0.00402698, 0.00437109]),\n",
       " 'rank_test_accuracy_score': array([1, 4, 3, 5, 2], dtype=int32)}"
      ]
     },
     "execution_count": 32,
     "metadata": {},
     "output_type": "execute_result"
    }
   ],
   "source": [
    "clf.cv_results_"
   ]
  },
  {
   "cell_type": "code",
   "execution_count": 33,
   "metadata": {
    "cell_id": "1492569c-42dc-4d11-b821-6f2f37e11dd7",
    "tags": []
   },
   "outputs": [
    {
     "data": {
      "text/plain": [
       "{'classifier__n_estimators': 1600,\n",
       " 'classifier__min_samples_split': 5,\n",
       " 'classifier__min_samples_leaf': 4,\n",
       " 'classifier__max_features': 136,\n",
       " 'classifier__max_depth': 45}"
      ]
     },
     "execution_count": 33,
     "metadata": {},
     "output_type": "execute_result"
    }
   ],
   "source": [
    "clf.best_params_"
   ]
  },
  {
   "cell_type": "code",
   "execution_count": 34,
   "metadata": {
    "cell_id": "6b623aaf-2493-4676-b1ae-ef6f196f4967",
    "tags": []
   },
   "outputs": [
    {
     "data": {
      "text/plain": [
       "22219"
      ]
     },
     "execution_count": 34,
     "metadata": {},
     "output_type": "execute_result"
    }
   ],
   "source": [
    "len(feature_importances)"
   ]
  },
  {
   "cell_type": "code",
   "execution_count": 35,
   "metadata": {
    "cell_id": "bd0f69be-8b10-4ac1-aae5-a4d4d74c648a",
    "tags": []
   },
   "outputs": [],
   "source": []
  }
 ],
 "metadata": {
  "deepnote_execution_queue": [],
  "deepnote_notebook_id": "9f8e90d6-83c5-448e-bc28-ebecae895328",
  "kernelspec": {
   "display_name": "learn-env",
   "language": "python",
   "name": "learn-env"
  },
  "language_info": {
   "codemirror_mode": {
    "name": "ipython",
    "version": 3
   },
   "file_extension": ".py",
   "mimetype": "text/x-python",
   "name": "python",
   "nbconvert_exporter": "python",
   "pygments_lexer": "ipython3",
   "version": "3.6.9"
  },
  "toc": {
   "base_numbering": 1,
   "nav_menu": {},
   "number_sections": true,
   "sideBar": true,
   "skip_h1_title": false,
   "title_cell": "Table of Contents",
   "title_sidebar": "Contents",
   "toc_cell": false,
   "toc_position": {},
   "toc_section_display": true,
   "toc_window_display": true
  },
  "varInspector": {
   "cols": {
    "lenName": 16,
    "lenType": 16,
    "lenVar": 40
   },
   "kernels_config": {
    "python": {
     "delete_cmd_postfix": "",
     "delete_cmd_prefix": "del ",
     "library": "var_list.py",
     "varRefreshCmd": "print(var_dic_list())"
    },
    "r": {
     "delete_cmd_postfix": ") ",
     "delete_cmd_prefix": "rm(",
     "library": "var_list.r",
     "varRefreshCmd": "cat(var_dic_list()) "
    }
   },
   "types_to_exclude": [
    "module",
    "function",
    "builtin_function_or_method",
    "instance",
    "_Feature"
   ],
   "window_display": false
  }
 },
 "nbformat": 4,
 "nbformat_minor": 2
}
