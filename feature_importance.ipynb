{
 "cells": [
  {
   "cell_type": "markdown",
   "metadata": {
    "colab_type": "text",
    "id": "Aem-Ao-cGqZX"
   },
   "source": [
    "# Feature Importance\n",
    "\n",
    "as determined by the best performing random forest classifier"
   ]
  },
  {
   "cell_type": "markdown",
   "metadata": {
    "heading_collapsed": true
   },
   "source": [
    "## imports and constants"
   ]
  },
  {
   "cell_type": "code",
   "execution_count": 2,
   "metadata": {
    "colab": {
     "base_uri": "https://localhost:8080/",
     "height": 54
    },
    "colab_type": "code",
    "hidden": true,
    "id": "HKWxYbtaGs4R",
    "outputId": "73fcb5c3-5275-4410-86ee-5d0baff0a8ce"
   },
   "outputs": [
    {
     "name": "stdout",
     "output_type": "stream",
     "text": [
      "Drive already mounted at /content/drive; to attempt to forcibly remount, call drive.mount(\"/content/drive\", force_remount=True).\n"
     ]
    }
   ],
   "source": [
    "from google.colab import drive\n",
    "drive.mount('/content/drive')"
   ]
  },
  {
   "cell_type": "code",
   "execution_count": 6,
   "metadata": {
    "ExecuteTime": {
     "end_time": "2020-07-11T18:06:08.381875Z",
     "start_time": "2020-07-11T18:06:08.376149Z"
    },
    "colab": {},
    "colab_type": "code",
    "hidden": true,
    "id": "ohJ_-P7zGqZZ"
   },
   "outputs": [],
   "source": [
    "import pandas as pd\n",
    "import numpy as np\n",
    "import joblib\n",
    "import matplotlib.pyplot as plt\n",
    "%matplotlib inline"
   ]
  },
  {
   "cell_type": "markdown",
   "metadata": {
    "heading_collapsed": true
   },
   "source": [
    "## Load Model"
   ]
  },
  {
   "cell_type": "code",
   "execution_count": 7,
   "metadata": {
    "ExecuteTime": {
     "end_time": "2020-07-11T18:16:00.706827Z",
     "start_time": "2020-07-11T18:16:00.703502Z"
    },
    "colab": {},
    "colab_type": "code",
    "hidden": true,
    "id": "7LFmbvsDGqZe"
   },
   "outputs": [],
   "source": [
    "MODEL_PATH = '/content/drive/My Drive/Colab Notebooks/models/'\n",
    "MODEL_FILE_NAME = 'rand_forest_cv8.sav'"
   ]
  },
  {
   "cell_type": "code",
   "execution_count": 8,
   "metadata": {
    "ExecuteTime": {
     "end_time": "2020-07-11T18:16:08.884539Z",
     "start_time": "2020-07-11T18:16:01.603154Z"
    },
    "colab": {
     "base_uri": "https://localhost:8080/",
     "height": 105
    },
    "colab_type": "code",
    "hidden": true,
    "id": "hYLDEErUGqZi",
    "outputId": "05450273-b381-4ab4-e940-a8d0176660a7"
   },
   "outputs": [
    {
     "name": "stderr",
     "output_type": "stream",
     "text": [
      "/usr/local/lib/python3.6/dist-packages/sklearn/externals/six.py:31: FutureWarning: The module is deprecated in version 0.21 and will be removed in version 0.23 since we've dropped support for Python 2.7. Please rely on the official version of six (https://pypi.org/project/six/).\n",
      "  \"(https://pypi.org/project/six/).\", FutureWarning)\n",
      "/usr/local/lib/python3.6/dist-packages/sklearn/utils/deprecation.py:144: FutureWarning: The sklearn.neighbors.base module is  deprecated in version 0.22 and will be removed in version 0.24. The corresponding classes / functions should instead be imported from sklearn.neighbors. Anything that cannot be imported from sklearn.neighbors is now part of the private API.\n",
      "  warnings.warn(message, FutureWarning)\n"
     ]
    }
   ],
   "source": [
    "clf = joblib.load(MODEL_PATH+MODEL_FILE_NAME)"
   ]
  },
  {
   "cell_type": "markdown",
   "metadata": {
    "heading_collapsed": true
   },
   "source": [
    "## Access Feature Importances"
   ]
  },
  {
   "cell_type": "code",
   "execution_count": 9,
   "metadata": {
    "ExecuteTime": {
     "end_time": "2020-07-11T18:16:10.005132Z",
     "start_time": "2020-07-11T18:16:09.793634Z"
    },
    "colab": {},
    "colab_type": "code",
    "hidden": true,
    "id": "6zxv1_u5GqZm"
   },
   "outputs": [],
   "source": [
    "feature_importances = clf.best_estimator_[2].feature_importances_"
   ]
  },
  {
   "cell_type": "code",
   "execution_count": 10,
   "metadata": {
    "ExecuteTime": {
     "end_time": "2020-07-11T18:16:10.543080Z",
     "start_time": "2020-07-11T18:16:10.535594Z"
    },
    "colab": {},
    "colab_type": "code",
    "hidden": true,
    "id": "jeMTB_lOGqZr"
   },
   "outputs": [],
   "source": [
    "cols_to_scale = ['gps_height', 'num_private', 'population', 'construction_year']\n",
    "cats = clf.best_estimator_[0].transformers_[1][1]['onehot'].get_feature_names()\n",
    "cols = cols_to_scale + list(cats)\n",
    "feature_importances_df = pd.DataFrame(feature_importances, index=cols, columns=['importance']).sort_values('importance', ascending=False)"
   ]
  },
  {
   "cell_type": "code",
   "execution_count": 11,
   "metadata": {
    "ExecuteTime": {
     "end_time": "2020-07-11T18:16:11.147242Z",
     "start_time": "2020-07-11T18:16:11.142756Z"
    },
    "colab": {},
    "colab_type": "code",
    "hidden": true,
    "id": "hEUFFVgnGqZv"
   },
   "outputs": [],
   "source": [
    "feature_importances_df['feature'] = feature_importances_df.index"
   ]
  },
  {
   "cell_type": "code",
   "execution_count": 12,
   "metadata": {
    "ExecuteTime": {
     "end_time": "2020-07-11T18:16:11.852451Z",
     "start_time": "2020-07-11T18:16:11.840955Z"
    },
    "colab": {
     "base_uri": "https://localhost:8080/",
     "height": 359
    },
    "colab_type": "code",
    "hidden": true,
    "id": "ESndWfI5GqZz",
    "outputId": "fd88a896-7ea4-4a23-d6f8-7c6d5b87cc7d"
   },
   "outputs": [
    {
     "data": {
      "text/html": [
       "<div>\n",
       "<style scoped>\n",
       "    .dataframe tbody tr th:only-of-type {\n",
       "        vertical-align: middle;\n",
       "    }\n",
       "\n",
       "    .dataframe tbody tr th {\n",
       "        vertical-align: top;\n",
       "    }\n",
       "\n",
       "    .dataframe thead th {\n",
       "        text-align: right;\n",
       "    }\n",
       "</style>\n",
       "<table border=\"1\" class=\"dataframe\">\n",
       "  <thead>\n",
       "    <tr style=\"text-align: right;\">\n",
       "      <th></th>\n",
       "      <th>importance</th>\n",
       "      <th>feature</th>\n",
       "    </tr>\n",
       "  </thead>\n",
       "  <tbody>\n",
       "    <tr>\n",
       "      <th>x8_dry</th>\n",
       "      <td>0.099060</td>\n",
       "      <td>x8_dry</td>\n",
       "    </tr>\n",
       "    <tr>\n",
       "      <th>gps_height</th>\n",
       "      <td>0.091081</td>\n",
       "      <td>gps_height</td>\n",
       "    </tr>\n",
       "    <tr>\n",
       "      <th>construction_year</th>\n",
       "      <td>0.086281</td>\n",
       "      <td>construction_year</td>\n",
       "    </tr>\n",
       "    <tr>\n",
       "      <th>population</th>\n",
       "      <td>0.067703</td>\n",
       "      <td>population</td>\n",
       "    </tr>\n",
       "    <tr>\n",
       "      <th>x10_other</th>\n",
       "      <td>0.031922</td>\n",
       "      <td>x10_other</td>\n",
       "    </tr>\n",
       "    <tr>\n",
       "      <th>x4_other</th>\n",
       "      <td>0.031920</td>\n",
       "      <td>x4_other</td>\n",
       "    </tr>\n",
       "    <tr>\n",
       "      <th>x8_enough</th>\n",
       "      <td>0.029958</td>\n",
       "      <td>x8_enough</td>\n",
       "    </tr>\n",
       "    <tr>\n",
       "      <th>x4_gravity</th>\n",
       "      <td>0.024550</td>\n",
       "      <td>x4_gravity</td>\n",
       "    </tr>\n",
       "    <tr>\n",
       "      <th>x8_insufficient</th>\n",
       "      <td>0.023068</td>\n",
       "      <td>x8_insufficient</td>\n",
       "    </tr>\n",
       "    <tr>\n",
       "      <th>x6_never pay</th>\n",
       "      <td>0.022703</td>\n",
       "      <td>x6_never pay</td>\n",
       "    </tr>\n",
       "  </tbody>\n",
       "</table>\n",
       "</div>"
      ],
      "text/plain": [
       "                   importance            feature\n",
       "x8_dry               0.099060             x8_dry\n",
       "gps_height           0.091081         gps_height\n",
       "construction_year    0.086281  construction_year\n",
       "population           0.067703         population\n",
       "x10_other            0.031922          x10_other\n",
       "x4_other             0.031920           x4_other\n",
       "x8_enough            0.029958          x8_enough\n",
       "x4_gravity           0.024550         x4_gravity\n",
       "x8_insufficient      0.023068    x8_insufficient\n",
       "x6_never pay         0.022703       x6_never pay"
      ]
     },
     "execution_count": 12,
     "metadata": {
      "tags": []
     },
     "output_type": "execute_result"
    }
   ],
   "source": [
    "feature_importances_df.head(10)"
   ]
  },
  {
   "cell_type": "code",
   "execution_count": 14,
   "metadata": {
    "ExecuteTime": {
     "end_time": "2020-07-11T18:16:15.770505Z",
     "start_time": "2020-07-11T18:16:15.766693Z"
    },
    "colab": {},
    "colab_type": "code",
    "hidden": true,
    "id": "e2A3xosvGqZ8"
   },
   "outputs": [],
   "source": [
    "top_ten = feature_importances_df[:10]"
   ]
  },
  {
   "cell_type": "code",
   "execution_count": 15,
   "metadata": {
    "ExecuteTime": {
     "end_time": "2020-07-11T18:16:16.807083Z",
     "start_time": "2020-07-11T18:16:16.801729Z"
    },
    "colab": {
     "base_uri": "https://localhost:8080/",
     "height": 122
    },
    "colab_type": "code",
    "hidden": true,
    "id": "1gWJtuGIGqaA",
    "outputId": "4de3b997-7354-4117-a69b-db46f19723b8"
   },
   "outputs": [
    {
     "name": "stderr",
     "output_type": "stream",
     "text": [
      "/usr/local/lib/python3.6/dist-packages/ipykernel_launcher.py:1: SettingWithCopyWarning: \n",
      "A value is trying to be set on a copy of a slice from a DataFrame\n",
      "\n",
      "See the caveats in the documentation: https://pandas.pydata.org/pandas-docs/stable/user_guide/indexing.html#returning-a-view-versus-a-copy\n",
      "  \"\"\"Entry point for launching an IPython kernel.\n"
     ]
    }
   ],
   "source": [
    "top_ten.sort_values(by='importance', inplace=True)"
   ]
  },
  {
   "cell_type": "code",
   "execution_count": 16,
   "metadata": {
    "ExecuteTime": {
     "end_time": "2020-07-11T18:16:18.027999Z",
     "start_time": "2020-07-11T18:16:18.017417Z"
    },
    "colab": {
     "base_uri": "https://localhost:8080/",
     "height": 359
    },
    "colab_type": "code",
    "hidden": true,
    "id": "gCqn10ebGqaE",
    "outputId": "5c58c2e9-ce3e-4d2f-f83b-04cf898ace04"
   },
   "outputs": [
    {
     "data": {
      "text/html": [
       "<div>\n",
       "<style scoped>\n",
       "    .dataframe tbody tr th:only-of-type {\n",
       "        vertical-align: middle;\n",
       "    }\n",
       "\n",
       "    .dataframe tbody tr th {\n",
       "        vertical-align: top;\n",
       "    }\n",
       "\n",
       "    .dataframe thead th {\n",
       "        text-align: right;\n",
       "    }\n",
       "</style>\n",
       "<table border=\"1\" class=\"dataframe\">\n",
       "  <thead>\n",
       "    <tr style=\"text-align: right;\">\n",
       "      <th></th>\n",
       "      <th>importance</th>\n",
       "      <th>feature</th>\n",
       "    </tr>\n",
       "  </thead>\n",
       "  <tbody>\n",
       "    <tr>\n",
       "      <th>x6_never pay</th>\n",
       "      <td>0.022703</td>\n",
       "      <td>x6_never pay</td>\n",
       "    </tr>\n",
       "    <tr>\n",
       "      <th>x8_insufficient</th>\n",
       "      <td>0.023068</td>\n",
       "      <td>x8_insufficient</td>\n",
       "    </tr>\n",
       "    <tr>\n",
       "      <th>x4_gravity</th>\n",
       "      <td>0.024550</td>\n",
       "      <td>x4_gravity</td>\n",
       "    </tr>\n",
       "    <tr>\n",
       "      <th>x8_enough</th>\n",
       "      <td>0.029958</td>\n",
       "      <td>x8_enough</td>\n",
       "    </tr>\n",
       "    <tr>\n",
       "      <th>x4_other</th>\n",
       "      <td>0.031920</td>\n",
       "      <td>x4_other</td>\n",
       "    </tr>\n",
       "    <tr>\n",
       "      <th>x10_other</th>\n",
       "      <td>0.031922</td>\n",
       "      <td>x10_other</td>\n",
       "    </tr>\n",
       "    <tr>\n",
       "      <th>population</th>\n",
       "      <td>0.067703</td>\n",
       "      <td>population</td>\n",
       "    </tr>\n",
       "    <tr>\n",
       "      <th>construction_year</th>\n",
       "      <td>0.086281</td>\n",
       "      <td>construction_year</td>\n",
       "    </tr>\n",
       "    <tr>\n",
       "      <th>gps_height</th>\n",
       "      <td>0.091081</td>\n",
       "      <td>gps_height</td>\n",
       "    </tr>\n",
       "    <tr>\n",
       "      <th>x8_dry</th>\n",
       "      <td>0.099060</td>\n",
       "      <td>x8_dry</td>\n",
       "    </tr>\n",
       "  </tbody>\n",
       "</table>\n",
       "</div>"
      ],
      "text/plain": [
       "                   importance            feature\n",
       "x6_never pay         0.022703       x6_never pay\n",
       "x8_insufficient      0.023068    x8_insufficient\n",
       "x4_gravity           0.024550         x4_gravity\n",
       "x8_enough            0.029958          x8_enough\n",
       "x4_other             0.031920           x4_other\n",
       "x10_other            0.031922          x10_other\n",
       "population           0.067703         population\n",
       "construction_year    0.086281  construction_year\n",
       "gps_height           0.091081         gps_height\n",
       "x8_dry               0.099060             x8_dry"
      ]
     },
     "execution_count": 16,
     "metadata": {
      "tags": []
     },
     "output_type": "execute_result"
    }
   ],
   "source": [
    "top_ten"
   ]
  },
  {
   "cell_type": "code",
   "execution_count": 19,
   "metadata": {
    "colab": {},
    "colab_type": "code",
    "hidden": true,
    "id": "1KJVfAmhHa32"
   },
   "outputs": [],
   "source": [
    "feature_names = ['quantity - Dry', 'gps_height', 'construction_year', 'population', 'waterpoint type - other',\n",
    "                 'extraction_type - other', 'quantity - enough', 'extraction_type - gravity',\n",
    "                 'quantity - insufficient', 'payment - never pay']"
   ]
  },
  {
   "cell_type": "code",
   "execution_count": 26,
   "metadata": {
    "colab": {},
    "colab_type": "code",
    "hidden": true,
    "id": "8kg4wra8IZOJ"
   },
   "outputs": [],
   "source": [
    "feature_names.reverse()"
   ]
  },
  {
   "cell_type": "code",
   "execution_count": 27,
   "metadata": {
    "colab": {
     "base_uri": "https://localhost:8080/",
     "height": 187
    },
    "colab_type": "code",
    "hidden": true,
    "id": "ZgREy-ppIfbj",
    "outputId": "a52b7319-d54d-4223-ecc6-c0f69fecf452"
   },
   "outputs": [
    {
     "data": {
      "text/plain": [
       "['payment - never pay',\n",
       " 'quantity - insufficient',\n",
       " 'extraction_type - gravity',\n",
       " 'quantity - enough',\n",
       " 'extraction_type - other',\n",
       " 'waterpoint type - other',\n",
       " 'population',\n",
       " 'construction_year',\n",
       " 'gps_height',\n",
       " 'quantity - Dry']"
      ]
     },
     "execution_count": 27,
     "metadata": {
      "tags": []
     },
     "output_type": "execute_result"
    }
   ],
   "source": [
    "feature_names"
   ]
  },
  {
   "cell_type": "markdown",
   "metadata": {},
   "source": [
    "## Display Feature Importances"
   ]
  },
  {
   "cell_type": "code",
   "execution_count": 28,
   "metadata": {
    "ExecuteTime": {
     "end_time": "2020-07-11T18:16:19.172283Z",
     "start_time": "2020-07-11T18:16:18.815582Z"
    },
    "colab": {
     "base_uri": "https://localhost:8080/",
     "height": 717
    },
    "colab_type": "code",
    "id": "Z-F4AYStGqaI",
    "outputId": "769f93db-7c78-4e1c-bbc6-384c25cbe2ba"
   },
   "outputs": [
    {
     "data": {
      "text/plain": [
       "<BarContainer object of 10 artists>"
      ]
     },
     "execution_count": 28,
     "metadata": {
      "tags": []
     },
     "output_type": "execute_result"
    },
    {
     "data": {
      "image/png": "[encoded data removed]",
      "text/plain": [
       "<Figure size 1152x864 with 1 Axes>"
      ]
     },
     "metadata": {
      "needs_background": "light",
      "tags": []
     },
     "output_type": "display_data"
    }
   ],
   "source": [
    "plt.figure(figsize=(16,12))\n",
    "plt.barh(feature_names, top_ten['importance'])"
   ]
  }
 ],
 "metadata": {
  "colab": {
   "name": "feature_importance.ipynb",
   "provenance": [],
   "toc_visible": true
  },
  "kernelspec": {
   "display_name": "learn-env",
   "language": "python",
   "name": "learn-env"
  },
  "language_info": {
   "codemirror_mode": {
    "name": "ipython",
    "version": 3
   },
   "file_extension": ".py",
   "mimetype": "text/x-python",
   "name": "python",
   "nbconvert_exporter": "python",
   "pygments_lexer": "ipython3",
   "version": "3.6.9"
  },
  "toc": {
   "base_numbering": 1,
   "nav_menu": {},
   "number_sections": true,
   "sideBar": true,
   "skip_h1_title": false,
   "title_cell": "Table of Contents",
   "title_sidebar": "Contents",
   "toc_cell": false,
   "toc_position": {},
   "toc_section_display": true,
   "toc_window_display": false
  },
  "varInspector": {
   "cols": {
    "lenName": 16,
    "lenType": 16,
    "lenVar": 40
   },
   "kernels_config": {
    "python": {
     "delete_cmd_postfix": "",
     "delete_cmd_prefix": "del ",
     "library": "var_list.py",
     "varRefreshCmd": "print(var_dic_list())"
    },
    "r": {
     "delete_cmd_postfix": ") ",
     "delete_cmd_prefix": "rm(",
     "library": "var_list.r",
     "varRefreshCmd": "cat(var_dic_list()) "
    }
   },
   "types_to_exclude": [
    "module",
    "function",
    "builtin_function_or_method",
    "instance",
    "_Feature"
   ],
   "window_display": false
  }
 },
 "nbformat": 4,
 "nbformat_minor": 1
}
